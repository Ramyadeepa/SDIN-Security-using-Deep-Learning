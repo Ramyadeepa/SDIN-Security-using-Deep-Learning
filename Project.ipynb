{
  "cells": [
    {
      "cell_type": "code",
      "execution_count": null,
      "metadata": {
        "id": "BYq2b48ax76-"
      },
      "outputs": [],
      "source": [
        "import numpy as np\n",
        "import matplotlib.pyplot as plt\n",
        "from sklearn.metrics import accuracy_score\n",
        "from sklearn.metrics import precision_score\n",
        "from sklearn.metrics import f1_score\n",
        "from sklearn.metrics import recall_score\n",
        "import pandas as pd\n",
        "from tensorflow.keras.models import *\n",
        "from tensorflow.keras.layers import *\n",
        "from tensorflow.keras.utils import to_categorical\n",
        "from sklearn.model_selection import train_test_split\n",
        "import seaborn as sns"
      ]
    },
    {
      "cell_type": "code",
      "execution_count": null,
      "metadata": {
        "colab": {
          "base_uri": "https://localhost:8080/",
          "height": 91,
          "resources": {
            "http://localhost:8080/nbextensions/google.colab/files.js": {
              "data": "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",
              "headers": [
                [
                  "content-type",
                  "application/javascript"
                ]
              ],
              "ok": true,
              "status": 200,
              "status_text": ""
            }
          }
        },
        "id": "92RtrpKhyUmQ",
        "outputId": "c86f7e3b-951c-45f3-d8cc-80617e75bb58"
      },
      "outputs": [
        {
          "output_type": "display_data",
          "data": {
            "text/plain": [
              "<IPython.core.display.HTML object>"
            ],
            "text/html": [
              "\n",
              "     <input type=\"file\" id=\"files-42c6d33d-6744-4ad6-a4c3-32ae418e1990\" name=\"files[]\" multiple disabled\n",
              "        style=\"border:none\" />\n",
              "     <output id=\"result-42c6d33d-6744-4ad6-a4c3-32ae418e1990\">\n",
              "      Upload widget is only available when the cell has been executed in the\n",
              "      current browser session. Please rerun this cell to enable.\n",
              "      </output>\n",
              "      <script src=\"/nbextensions/google.colab/files.js\"></script> "
            ]
          },
          "metadata": {}
        },
        {
          "output_type": "stream",
          "name": "stdout",
          "text": [
            "Saving KDD.txt to KDD (1).txt\n",
            "File uploaded: \"KDD.txt\" with length 249858 bytes\n"
          ]
        }
      ],
      "source": [
        "#import dataset\n",
        "from google.colab import files\n",
        "uploaded = files.upload()\n",
        "for fn in uploaded.keys():\n",
        "  print('File uploaded: \"{name}\" with length {length} bytes'.format(name=fn, length=len(uploaded[fn])))"
      ]
    },
    {
      "cell_type": "code",
      "execution_count": null,
      "metadata": {
        "colab": {
          "base_uri": "https://localhost:8080/"
        },
        "id": "Fn-qT57zyaq3",
        "outputId": "d60c0b7f-d4d4-4c30-8476-36e0cae2c2dc"
      },
      "outputs": [
        {
          "output_type": "stream",
          "name": "stdout",
          "text": [
            "      0  tcp     http  SF  181  5450  0.1  0.2  0.3  0.4  ...  9.1  1.00.1  \\\n",
            "0     0  tcp     http  SF  239   486    0    0    0    0  ...   19    1.00   \n",
            "1     0  tcp     http  SF  235  1337    0    0    0    0  ...   29    1.00   \n",
            "2     0  tcp     http  SF  219  1337    0    0    0    0  ...   39    1.00   \n",
            "3     0  tcp     http  SF  217  2032    0    0    0    0  ...   49    1.00   \n",
            "4     0  tcp     http  SF  217  2032    0    0    0    0  ...   59    1.00   \n",
            "...  ..  ...      ...  ..  ...   ...  ...  ...  ...  ...  ...  ...     ...   \n",
            "1644  0  udp  private  SF   28     0    0    3    0    0  ...   71    0.28   \n",
            "1645  0  udp  private  SF   28     0    0    3    0    0  ...   72    0.28   \n",
            "1646  0  udp  private  SF   28     0    0    3    0    0  ...   73    0.29   \n",
            "1647  0  udp  private  SF   28     0    0    3    0    0  ...   74    0.29   \n",
            "1648  0  udp  private  SF   28     0    0    3    0    0  ...   75    0.29   \n",
            "\n",
            "      0.00.6  0.11.1  0.00.7  0.00.8  0.00.9  0.00.10  0.00.11    normal.  \n",
            "0       0.00    0.05     0.0    0.00     0.0     0.00      0.0    normal.  \n",
            "1       0.00    0.03     0.0    0.00     0.0     0.00      0.0    normal.  \n",
            "2       0.00    0.03     0.0    0.00     0.0     0.00      0.0    normal.  \n",
            "3       0.00    0.02     0.0    0.00     0.0     0.00      0.0    normal.  \n",
            "4       0.00    0.02     0.0    0.00     0.0     0.00      0.0    normal.  \n",
            "...      ...     ...     ...     ...     ...      ...      ...        ...  \n",
            "1644    0.73    0.28     0.0    0.09     0.0     0.64      0.0  teardrop.  \n",
            "1645    0.72    0.28     0.0    0.09     0.0     0.63      0.0  teardrop.  \n",
            "1646    0.72    0.29     0.0    0.09     0.0     0.63      0.0  teardrop.  \n",
            "1647    0.71    0.29     0.0    0.09     0.0     0.62      0.0  teardrop.  \n",
            "1648    0.71    0.29     0.0    0.09     0.0     0.62      0.0  teardrop.  \n",
            "\n",
            "[1649 rows x 42 columns]\n"
          ]
        }
      ],
      "source": [
        "#saving dataset\n",
        "kdd='/content/KDD.txt'\n",
        "df=pd.read_csv(kdd)\n",
        "df1=pd.read_csv(kdd)\n",
        "df.to_csv('kdd.csv')\n",
        "print(df)"
      ]
    },
    {
      "cell_type": "code",
      "execution_count": null,
      "metadata": {
        "id": "LkCdaE_pyinN"
      },
      "outputs": [],
      "source": [
        "#adding header for columns\n",
        "columns = (['duration'\n",
        ",'protocol_type'\n",
        ",'service'\n",
        ",'flag'\n",
        ",'src_bytes'\n",
        ",'dst_bytes'\n",
        ",'land'\n",
        ",'wrong_fragment'\n",
        ",'urgent'\n",
        ",'hot'\n",
        ",'num_failed_logins'\n",
        ",'logged_in'\n",
        ",'num_compromised'\n",
        ",'root_shell'\n",
        ",'su_attempted'\n",
        ",'num_root'\n",
        ",'num_file_creations'\n",
        ",'num_shells'\n",
        ",'num_access_files'\n",
        ",'num_outbound_cmds'\n",
        ",'is_host_login'\n",
        ",'is_guest_login'\n",
        ",'count'\n",
        ",'srv_count'\n",
        ",'serror_rate'\n",
        ",'srv_serror_rate'\n",
        ",'rerror_rate'\n",
        ",'srv_rerror_rate'\n",
        ",'same_srv_rate'\n",
        ",'diff_srv_rate'\n",
        ",'srv_diff_host_rate'\n",
        ",'dst_host_count'\n",
        ",'dst_host_srv_count'\n",
        ",'dst_host_same_srv_rate'\n",
        ",'dst_host_diff_srv_rate'\n",
        ",'dst_host_same_src_port_rate'\n",
        ",'dst_host_srv_diff_host_rate'\n",
        ",'dst_host_serror_rate'\n",
        ",'dst_host_srv_serror_rate'\n",
        ",'dst_host_rerror_rate'\n",
        ",'dst_host_srv_rerror_rate'\n",
        ",'attack'\n",
        "])"
      ]
    },
    {
      "cell_type": "code",
      "execution_count": null,
      "metadata": {
        "id": "LmHgEhK0ys_O"
      },
      "outputs": [],
      "source": [
        "df.columns = columns\n",
        "df1.columns = columns"
      ]
    },
    {
      "cell_type": "code",
      "execution_count": null,
      "metadata": {
        "colab": {
          "base_uri": "https://localhost:8080/",
          "height": 299
        },
        "id": "sdPSS-n5yuVM",
        "outputId": "f57644cf-aa43-42e8-8f3f-fa3cf8e30c3d"
      },
      "outputs": [
        {
          "output_type": "execute_result",
          "data": {
            "text/plain": [
              "   duration protocol_type service flag  src_bytes  dst_bytes  land  \\\n",
              "0         0           tcp    http   SF        239        486     0   \n",
              "1         0           tcp    http   SF        235       1337     0   \n",
              "2         0           tcp    http   SF        219       1337     0   \n",
              "3         0           tcp    http   SF        217       2032     0   \n",
              "4         0           tcp    http   SF        217       2032     0   \n",
              "\n",
              "   wrong_fragment  urgent  hot  ...  dst_host_srv_count  \\\n",
              "0               0       0    0  ...                  19   \n",
              "1               0       0    0  ...                  29   \n",
              "2               0       0    0  ...                  39   \n",
              "3               0       0    0  ...                  49   \n",
              "4               0       0    0  ...                  59   \n",
              "\n",
              "   dst_host_same_srv_rate  dst_host_diff_srv_rate  \\\n",
              "0                     1.0                     0.0   \n",
              "1                     1.0                     0.0   \n",
              "2                     1.0                     0.0   \n",
              "3                     1.0                     0.0   \n",
              "4                     1.0                     0.0   \n",
              "\n",
              "   dst_host_same_src_port_rate  dst_host_srv_diff_host_rate  \\\n",
              "0                         0.05                          0.0   \n",
              "1                         0.03                          0.0   \n",
              "2                         0.03                          0.0   \n",
              "3                         0.02                          0.0   \n",
              "4                         0.02                          0.0   \n",
              "\n",
              "   dst_host_serror_rate  dst_host_srv_serror_rate  dst_host_rerror_rate  \\\n",
              "0                   0.0                       0.0                   0.0   \n",
              "1                   0.0                       0.0                   0.0   \n",
              "2                   0.0                       0.0                   0.0   \n",
              "3                   0.0                       0.0                   0.0   \n",
              "4                   0.0                       0.0                   0.0   \n",
              "\n",
              "   dst_host_srv_rerror_rate   attack  \n",
              "0                       0.0  normal.  \n",
              "1                       0.0  normal.  \n",
              "2                       0.0  normal.  \n",
              "3                       0.0  normal.  \n",
              "4                       0.0  normal.  \n",
              "\n",
              "[5 rows x 42 columns]"
            ],
            "text/html": [
              "\n",
              "  <div id=\"df-1720c75f-ced7-4a86-86b7-cc8e85f24c2e\">\n",
              "    <div class=\"colab-df-container\">\n",
              "      <div>\n",
              "<style scoped>\n",
              "    .dataframe tbody tr th:only-of-type {\n",
              "        vertical-align: middle;\n",
              "    }\n",
              "\n",
              "    .dataframe tbody tr th {\n",
              "        vertical-align: top;\n",
              "    }\n",
              "\n",
              "    .dataframe thead th {\n",
              "        text-align: right;\n",
              "    }\n",
              "</style>\n",
              "<table border=\"1\" class=\"dataframe\">\n",
              "  <thead>\n",
              "    <tr style=\"text-align: right;\">\n",
              "      <th></th>\n",
              "      <th>duration</th>\n",
              "      <th>protocol_type</th>\n",
              "      <th>service</th>\n",
              "      <th>flag</th>\n",
              "      <th>src_bytes</th>\n",
              "      <th>dst_bytes</th>\n",
              "      <th>land</th>\n",
              "      <th>wrong_fragment</th>\n",
              "      <th>urgent</th>\n",
              "      <th>hot</th>\n",
              "      <th>...</th>\n",
              "      <th>dst_host_srv_count</th>\n",
              "      <th>dst_host_same_srv_rate</th>\n",
              "      <th>dst_host_diff_srv_rate</th>\n",
              "      <th>dst_host_same_src_port_rate</th>\n",
              "      <th>dst_host_srv_diff_host_rate</th>\n",
              "      <th>dst_host_serror_rate</th>\n",
              "      <th>dst_host_srv_serror_rate</th>\n",
              "      <th>dst_host_rerror_rate</th>\n",
              "      <th>dst_host_srv_rerror_rate</th>\n",
              "      <th>attack</th>\n",
              "    </tr>\n",
              "  </thead>\n",
              "  <tbody>\n",
              "    <tr>\n",
              "      <th>0</th>\n",
              "      <td>0</td>\n",
              "      <td>tcp</td>\n",
              "      <td>http</td>\n",
              "      <td>SF</td>\n",
              "      <td>239</td>\n",
              "      <td>486</td>\n",
              "      <td>0</td>\n",
              "      <td>0</td>\n",
              "      <td>0</td>\n",
              "      <td>0</td>\n",
              "      <td>...</td>\n",
              "      <td>19</td>\n",
              "      <td>1.0</td>\n",
              "      <td>0.0</td>\n",
              "      <td>0.05</td>\n",
              "      <td>0.0</td>\n",
              "      <td>0.0</td>\n",
              "      <td>0.0</td>\n",
              "      <td>0.0</td>\n",
              "      <td>0.0</td>\n",
              "      <td>normal.</td>\n",
              "    </tr>\n",
              "    <tr>\n",
              "      <th>1</th>\n",
              "      <td>0</td>\n",
              "      <td>tcp</td>\n",
              "      <td>http</td>\n",
              "      <td>SF</td>\n",
              "      <td>235</td>\n",
              "      <td>1337</td>\n",
              "      <td>0</td>\n",
              "      <td>0</td>\n",
              "      <td>0</td>\n",
              "      <td>0</td>\n",
              "      <td>...</td>\n",
              "      <td>29</td>\n",
              "      <td>1.0</td>\n",
              "      <td>0.0</td>\n",
              "      <td>0.03</td>\n",
              "      <td>0.0</td>\n",
              "      <td>0.0</td>\n",
              "      <td>0.0</td>\n",
              "      <td>0.0</td>\n",
              "      <td>0.0</td>\n",
              "      <td>normal.</td>\n",
              "    </tr>\n",
              "    <tr>\n",
              "      <th>2</th>\n",
              "      <td>0</td>\n",
              "      <td>tcp</td>\n",
              "      <td>http</td>\n",
              "      <td>SF</td>\n",
              "      <td>219</td>\n",
              "      <td>1337</td>\n",
              "      <td>0</td>\n",
              "      <td>0</td>\n",
              "      <td>0</td>\n",
              "      <td>0</td>\n",
              "      <td>...</td>\n",
              "      <td>39</td>\n",
              "      <td>1.0</td>\n",
              "      <td>0.0</td>\n",
              "      <td>0.03</td>\n",
              "      <td>0.0</td>\n",
              "      <td>0.0</td>\n",
              "      <td>0.0</td>\n",
              "      <td>0.0</td>\n",
              "      <td>0.0</td>\n",
              "      <td>normal.</td>\n",
              "    </tr>\n",
              "    <tr>\n",
              "      <th>3</th>\n",
              "      <td>0</td>\n",
              "      <td>tcp</td>\n",
              "      <td>http</td>\n",
              "      <td>SF</td>\n",
              "      <td>217</td>\n",
              "      <td>2032</td>\n",
              "      <td>0</td>\n",
              "      <td>0</td>\n",
              "      <td>0</td>\n",
              "      <td>0</td>\n",
              "      <td>...</td>\n",
              "      <td>49</td>\n",
              "      <td>1.0</td>\n",
              "      <td>0.0</td>\n",
              "      <td>0.02</td>\n",
              "      <td>0.0</td>\n",
              "      <td>0.0</td>\n",
              "      <td>0.0</td>\n",
              "      <td>0.0</td>\n",
              "      <td>0.0</td>\n",
              "      <td>normal.</td>\n",
              "    </tr>\n",
              "    <tr>\n",
              "      <th>4</th>\n",
              "      <td>0</td>\n",
              "      <td>tcp</td>\n",
              "      <td>http</td>\n",
              "      <td>SF</td>\n",
              "      <td>217</td>\n",
              "      <td>2032</td>\n",
              "      <td>0</td>\n",
              "      <td>0</td>\n",
              "      <td>0</td>\n",
              "      <td>0</td>\n",
              "      <td>...</td>\n",
              "      <td>59</td>\n",
              "      <td>1.0</td>\n",
              "      <td>0.0</td>\n",
              "      <td>0.02</td>\n",
              "      <td>0.0</td>\n",
              "      <td>0.0</td>\n",
              "      <td>0.0</td>\n",
              "      <td>0.0</td>\n",
              "      <td>0.0</td>\n",
              "      <td>normal.</td>\n",
              "    </tr>\n",
              "  </tbody>\n",
              "</table>\n",
              "<p>5 rows × 42 columns</p>\n",
              "</div>\n",
              "      <button class=\"colab-df-convert\" onclick=\"convertToInteractive('df-1720c75f-ced7-4a86-86b7-cc8e85f24c2e')\"\n",
              "              title=\"Convert this dataframe to an interactive table.\"\n",
              "              style=\"display:none;\">\n",
              "        \n",
              "  <svg xmlns=\"http://www.w3.org/2000/svg\" height=\"24px\"viewBox=\"0 0 24 24\"\n",
              "       width=\"24px\">\n",
              "    <path d=\"M0 0h24v24H0V0z\" fill=\"none\"/>\n",
              "    <path d=\"M18.56 5.44l.94 2.06.94-2.06 2.06-.94-2.06-.94-.94-2.06-.94 2.06-2.06.94zm-11 1L8.5 8.5l.94-2.06 2.06-.94-2.06-.94L8.5 2.5l-.94 2.06-2.06.94zm10 10l.94 2.06.94-2.06 2.06-.94-2.06-.94-.94-2.06-.94 2.06-2.06.94z\"/><path d=\"M17.41 7.96l-1.37-1.37c-.4-.4-.92-.59-1.43-.59-.52 0-1.04.2-1.43.59L10.3 9.45l-7.72 7.72c-.78.78-.78 2.05 0 2.83L4 21.41c.39.39.9.59 1.41.59.51 0 1.02-.2 1.41-.59l7.78-7.78 2.81-2.81c.8-.78.8-2.07 0-2.86zM5.41 20L4 18.59l7.72-7.72 1.47 1.35L5.41 20z\"/>\n",
              "  </svg>\n",
              "      </button>\n",
              "      \n",
              "  <style>\n",
              "    .colab-df-container {\n",
              "      display:flex;\n",
              "      flex-wrap:wrap;\n",
              "      gap: 12px;\n",
              "    }\n",
              "\n",
              "    .colab-df-convert {\n",
              "      background-color: #E8F0FE;\n",
              "      border: none;\n",
              "      border-radius: 50%;\n",
              "      cursor: pointer;\n",
              "      display: none;\n",
              "      fill: #1967D2;\n",
              "      height: 32px;\n",
              "      padding: 0 0 0 0;\n",
              "      width: 32px;\n",
              "    }\n",
              "\n",
              "    .colab-df-convert:hover {\n",
              "      background-color: #E2EBFA;\n",
              "      box-shadow: 0px 1px 2px rgba(60, 64, 67, 0.3), 0px 1px 3px 1px rgba(60, 64, 67, 0.15);\n",
              "      fill: #174EA6;\n",
              "    }\n",
              "\n",
              "    [theme=dark] .colab-df-convert {\n",
              "      background-color: #3B4455;\n",
              "      fill: #D2E3FC;\n",
              "    }\n",
              "\n",
              "    [theme=dark] .colab-df-convert:hover {\n",
              "      background-color: #434B5C;\n",
              "      box-shadow: 0px 1px 3px 1px rgba(0, 0, 0, 0.15);\n",
              "      filter: drop-shadow(0px 1px 2px rgba(0, 0, 0, 0.3));\n",
              "      fill: #FFFFFF;\n",
              "    }\n",
              "  </style>\n",
              "\n",
              "      <script>\n",
              "        const buttonEl =\n",
              "          document.querySelector('#df-1720c75f-ced7-4a86-86b7-cc8e85f24c2e button.colab-df-convert');\n",
              "        buttonEl.style.display =\n",
              "          google.colab.kernel.accessAllowed ? 'block' : 'none';\n",
              "\n",
              "        async function convertToInteractive(key) {\n",
              "          const element = document.querySelector('#df-1720c75f-ced7-4a86-86b7-cc8e85f24c2e');\n",
              "          const dataTable =\n",
              "            await google.colab.kernel.invokeFunction('convertToInteractive',\n",
              "                                                     [key], {});\n",
              "          if (!dataTable) return;\n",
              "\n",
              "          const docLinkHtml = 'Like what you see? Visit the ' +\n",
              "            '<a target=\"_blank\" href=https://colab.research.google.com/notebooks/data_table.ipynb>data table notebook</a>'\n",
              "            + ' to learn more about interactive tables.';\n",
              "          element.innerHTML = '';\n",
              "          dataTable['output_type'] = 'display_data';\n",
              "          await google.colab.output.renderOutput(dataTable, element);\n",
              "          const docLink = document.createElement('div');\n",
              "          docLink.innerHTML = docLinkHtml;\n",
              "          element.appendChild(docLink);\n",
              "        }\n",
              "      </script>\n",
              "    </div>\n",
              "  </div>\n",
              "  "
            ]
          },
          "metadata": {},
          "execution_count": 71
        }
      ],
      "source": [
        "df.head()"
      ]
    },
    {
      "cell_type": "code",
      "execution_count": null,
      "metadata": {
        "colab": {
          "base_uri": "https://localhost:8080/",
          "height": 394
        },
        "id": "3wBkSyQ5y3R0",
        "outputId": "476ee87e-905d-47f4-cf29-08f76d7ae984"
      },
      "outputs": [
        {
          "output_type": "execute_result",
          "data": {
            "text/plain": [
              "           duration    src_bytes     dst_bytes    land  wrong_fragment  \\\n",
              "count   1649.000000  1649.000000   1649.000000  1649.0     1649.000000   \n",
              "mean    2727.283202   201.915706    344.053972     0.0        0.545785   \n",
              "std    10205.996077   364.174412   1513.725527     0.0        1.157708   \n",
              "min        0.000000     0.000000      0.000000     0.0        0.000000   \n",
              "25%        0.000000     0.000000      0.000000     0.0        0.000000   \n",
              "50%        0.000000    28.000000      0.000000     0.0        0.000000   \n",
              "75%        0.000000   217.000000      0.000000     0.0        0.000000   \n",
              "max    42448.000000  1032.000000  18434.000000     0.0        3.000000   \n",
              "\n",
              "       urgent          hot  num_failed_logins    logged_in  num_compromised  \\\n",
              "count  1649.0  1649.000000             1649.0  1649.000000           1649.0   \n",
              "mean      0.0     0.006064                0.0     0.166161              0.0   \n",
              "std       0.0     0.077661                0.0     0.372338              0.0   \n",
              "min       0.0     0.000000                0.0     0.000000              0.0   \n",
              "25%       0.0     0.000000                0.0     0.000000              0.0   \n",
              "50%       0.0     0.000000                0.0     0.000000              0.0   \n",
              "75%       0.0     0.000000                0.0     0.000000              0.0   \n",
              "max       0.0     1.000000                0.0     1.000000              0.0   \n",
              "\n",
              "       ...  dst_host_count  dst_host_srv_count  dst_host_same_srv_rate  \\\n",
              "count  ...     1649.000000         1649.000000             1649.000000   \n",
              "mean   ...      212.389933           74.567010                0.363493   \n",
              "std    ...       85.247641           98.164387                0.444560   \n",
              "min    ...        1.000000            1.000000                0.000000   \n",
              "25%    ...      255.000000            1.000000                0.000000   \n",
              "50%    ...      255.000000           19.000000                0.080000   \n",
              "75%    ...      255.000000          119.000000                1.000000   \n",
              "max    ...      255.000000          255.000000                1.000000   \n",
              "\n",
              "       dst_host_diff_srv_rate  dst_host_same_src_port_rate  \\\n",
              "count             1649.000000                  1649.000000   \n",
              "mean                 0.402729                     0.335167   \n",
              "std                  0.409696                     0.399578   \n",
              "min                  0.000000                     0.000000   \n",
              "25%                  0.000000                     0.000000   \n",
              "50%                  0.230000                     0.130000   \n",
              "75%                  0.850000                     0.740000   \n",
              "max                  1.000000                     1.000000   \n",
              "\n",
              "       dst_host_srv_diff_host_rate  dst_host_serror_rate  \\\n",
              "count                  1649.000000           1649.000000   \n",
              "mean                      0.005518              0.165706   \n",
              "std                       0.013973              0.319290   \n",
              "min                       0.000000              0.000000   \n",
              "25%                       0.000000              0.000000   \n",
              "50%                       0.000000              0.000000   \n",
              "75%                       0.000000              0.130000   \n",
              "max                       0.050000              1.000000   \n",
              "\n",
              "       dst_host_srv_serror_rate  dst_host_rerror_rate  \\\n",
              "count               1649.000000           1649.000000   \n",
              "mean                   0.142511              0.415039   \n",
              "std                    0.349679              0.398657   \n",
              "min                    0.000000              0.000000   \n",
              "25%                    0.000000              0.000000   \n",
              "50%                    0.000000              0.450000   \n",
              "75%                    0.000000              0.840000   \n",
              "max                    1.000000              1.000000   \n",
              "\n",
              "       dst_host_srv_rerror_rate  \n",
              "count               1649.000000  \n",
              "mean                   0.342753  \n",
              "std                    0.474647  \n",
              "min                    0.000000  \n",
              "25%                    0.000000  \n",
              "50%                    0.000000  \n",
              "75%                    1.000000  \n",
              "max                    1.000000  \n",
              "\n",
              "[8 rows x 38 columns]"
            ],
            "text/html": [
              "\n",
              "  <div id=\"df-1f8316ce-1f82-481e-b99d-057f91460172\">\n",
              "    <div class=\"colab-df-container\">\n",
              "      <div>\n",
              "<style scoped>\n",
              "    .dataframe tbody tr th:only-of-type {\n",
              "        vertical-align: middle;\n",
              "    }\n",
              "\n",
              "    .dataframe tbody tr th {\n",
              "        vertical-align: top;\n",
              "    }\n",
              "\n",
              "    .dataframe thead th {\n",
              "        text-align: right;\n",
              "    }\n",
              "</style>\n",
              "<table border=\"1\" class=\"dataframe\">\n",
              "  <thead>\n",
              "    <tr style=\"text-align: right;\">\n",
              "      <th></th>\n",
              "      <th>duration</th>\n",
              "      <th>src_bytes</th>\n",
              "      <th>dst_bytes</th>\n",
              "      <th>land</th>\n",
              "      <th>wrong_fragment</th>\n",
              "      <th>urgent</th>\n",
              "      <th>hot</th>\n",
              "      <th>num_failed_logins</th>\n",
              "      <th>logged_in</th>\n",
              "      <th>num_compromised</th>\n",
              "      <th>...</th>\n",
              "      <th>dst_host_count</th>\n",
              "      <th>dst_host_srv_count</th>\n",
              "      <th>dst_host_same_srv_rate</th>\n",
              "      <th>dst_host_diff_srv_rate</th>\n",
              "      <th>dst_host_same_src_port_rate</th>\n",
              "      <th>dst_host_srv_diff_host_rate</th>\n",
              "      <th>dst_host_serror_rate</th>\n",
              "      <th>dst_host_srv_serror_rate</th>\n",
              "      <th>dst_host_rerror_rate</th>\n",
              "      <th>dst_host_srv_rerror_rate</th>\n",
              "    </tr>\n",
              "  </thead>\n",
              "  <tbody>\n",
              "    <tr>\n",
              "      <th>count</th>\n",
              "      <td>1649.000000</td>\n",
              "      <td>1649.000000</td>\n",
              "      <td>1649.000000</td>\n",
              "      <td>1649.0</td>\n",
              "      <td>1649.000000</td>\n",
              "      <td>1649.0</td>\n",
              "      <td>1649.000000</td>\n",
              "      <td>1649.0</td>\n",
              "      <td>1649.000000</td>\n",
              "      <td>1649.0</td>\n",
              "      <td>...</td>\n",
              "      <td>1649.000000</td>\n",
              "      <td>1649.000000</td>\n",
              "      <td>1649.000000</td>\n",
              "      <td>1649.000000</td>\n",
              "      <td>1649.000000</td>\n",
              "      <td>1649.000000</td>\n",
              "      <td>1649.000000</td>\n",
              "      <td>1649.000000</td>\n",
              "      <td>1649.000000</td>\n",
              "      <td>1649.000000</td>\n",
              "    </tr>\n",
              "    <tr>\n",
              "      <th>mean</th>\n",
              "      <td>2727.283202</td>\n",
              "      <td>201.915706</td>\n",
              "      <td>344.053972</td>\n",
              "      <td>0.0</td>\n",
              "      <td>0.545785</td>\n",
              "      <td>0.0</td>\n",
              "      <td>0.006064</td>\n",
              "      <td>0.0</td>\n",
              "      <td>0.166161</td>\n",
              "      <td>0.0</td>\n",
              "      <td>...</td>\n",
              "      <td>212.389933</td>\n",
              "      <td>74.567010</td>\n",
              "      <td>0.363493</td>\n",
              "      <td>0.402729</td>\n",
              "      <td>0.335167</td>\n",
              "      <td>0.005518</td>\n",
              "      <td>0.165706</td>\n",
              "      <td>0.142511</td>\n",
              "      <td>0.415039</td>\n",
              "      <td>0.342753</td>\n",
              "    </tr>\n",
              "    <tr>\n",
              "      <th>std</th>\n",
              "      <td>10205.996077</td>\n",
              "      <td>364.174412</td>\n",
              "      <td>1513.725527</td>\n",
              "      <td>0.0</td>\n",
              "      <td>1.157708</td>\n",
              "      <td>0.0</td>\n",
              "      <td>0.077661</td>\n",
              "      <td>0.0</td>\n",
              "      <td>0.372338</td>\n",
              "      <td>0.0</td>\n",
              "      <td>...</td>\n",
              "      <td>85.247641</td>\n",
              "      <td>98.164387</td>\n",
              "      <td>0.444560</td>\n",
              "      <td>0.409696</td>\n",
              "      <td>0.399578</td>\n",
              "      <td>0.013973</td>\n",
              "      <td>0.319290</td>\n",
              "      <td>0.349679</td>\n",
              "      <td>0.398657</td>\n",
              "      <td>0.474647</td>\n",
              "    </tr>\n",
              "    <tr>\n",
              "      <th>min</th>\n",
              "      <td>0.000000</td>\n",
              "      <td>0.000000</td>\n",
              "      <td>0.000000</td>\n",
              "      <td>0.0</td>\n",
              "      <td>0.000000</td>\n",
              "      <td>0.0</td>\n",
              "      <td>0.000000</td>\n",
              "      <td>0.0</td>\n",
              "      <td>0.000000</td>\n",
              "      <td>0.0</td>\n",
              "      <td>...</td>\n",
              "      <td>1.000000</td>\n",
              "      <td>1.000000</td>\n",
              "      <td>0.000000</td>\n",
              "      <td>0.000000</td>\n",
              "      <td>0.000000</td>\n",
              "      <td>0.000000</td>\n",
              "      <td>0.000000</td>\n",
              "      <td>0.000000</td>\n",
              "      <td>0.000000</td>\n",
              "      <td>0.000000</td>\n",
              "    </tr>\n",
              "    <tr>\n",
              "      <th>25%</th>\n",
              "      <td>0.000000</td>\n",
              "      <td>0.000000</td>\n",
              "      <td>0.000000</td>\n",
              "      <td>0.0</td>\n",
              "      <td>0.000000</td>\n",
              "      <td>0.0</td>\n",
              "      <td>0.000000</td>\n",
              "      <td>0.0</td>\n",
              "      <td>0.000000</td>\n",
              "      <td>0.0</td>\n",
              "      <td>...</td>\n",
              "      <td>255.000000</td>\n",
              "      <td>1.000000</td>\n",
              "      <td>0.000000</td>\n",
              "      <td>0.000000</td>\n",
              "      <td>0.000000</td>\n",
              "      <td>0.000000</td>\n",
              "      <td>0.000000</td>\n",
              "      <td>0.000000</td>\n",
              "      <td>0.000000</td>\n",
              "      <td>0.000000</td>\n",
              "    </tr>\n",
              "    <tr>\n",
              "      <th>50%</th>\n",
              "      <td>0.000000</td>\n",
              "      <td>28.000000</td>\n",
              "      <td>0.000000</td>\n",
              "      <td>0.0</td>\n",
              "      <td>0.000000</td>\n",
              "      <td>0.0</td>\n",
              "      <td>0.000000</td>\n",
              "      <td>0.0</td>\n",
              "      <td>0.000000</td>\n",
              "      <td>0.0</td>\n",
              "      <td>...</td>\n",
              "      <td>255.000000</td>\n",
              "      <td>19.000000</td>\n",
              "      <td>0.080000</td>\n",
              "      <td>0.230000</td>\n",
              "      <td>0.130000</td>\n",
              "      <td>0.000000</td>\n",
              "      <td>0.000000</td>\n",
              "      <td>0.000000</td>\n",
              "      <td>0.450000</td>\n",
              "      <td>0.000000</td>\n",
              "    </tr>\n",
              "    <tr>\n",
              "      <th>75%</th>\n",
              "      <td>0.000000</td>\n",
              "      <td>217.000000</td>\n",
              "      <td>0.000000</td>\n",
              "      <td>0.0</td>\n",
              "      <td>0.000000</td>\n",
              "      <td>0.0</td>\n",
              "      <td>0.000000</td>\n",
              "      <td>0.0</td>\n",
              "      <td>0.000000</td>\n",
              "      <td>0.0</td>\n",
              "      <td>...</td>\n",
              "      <td>255.000000</td>\n",
              "      <td>119.000000</td>\n",
              "      <td>1.000000</td>\n",
              "      <td>0.850000</td>\n",
              "      <td>0.740000</td>\n",
              "      <td>0.000000</td>\n",
              "      <td>0.130000</td>\n",
              "      <td>0.000000</td>\n",
              "      <td>0.840000</td>\n",
              "      <td>1.000000</td>\n",
              "    </tr>\n",
              "    <tr>\n",
              "      <th>max</th>\n",
              "      <td>42448.000000</td>\n",
              "      <td>1032.000000</td>\n",
              "      <td>18434.000000</td>\n",
              "      <td>0.0</td>\n",
              "      <td>3.000000</td>\n",
              "      <td>0.0</td>\n",
              "      <td>1.000000</td>\n",
              "      <td>0.0</td>\n",
              "      <td>1.000000</td>\n",
              "      <td>0.0</td>\n",
              "      <td>...</td>\n",
              "      <td>255.000000</td>\n",
              "      <td>255.000000</td>\n",
              "      <td>1.000000</td>\n",
              "      <td>1.000000</td>\n",
              "      <td>1.000000</td>\n",
              "      <td>0.050000</td>\n",
              "      <td>1.000000</td>\n",
              "      <td>1.000000</td>\n",
              "      <td>1.000000</td>\n",
              "      <td>1.000000</td>\n",
              "    </tr>\n",
              "  </tbody>\n",
              "</table>\n",
              "<p>8 rows × 38 columns</p>\n",
              "</div>\n",
              "      <button class=\"colab-df-convert\" onclick=\"convertToInteractive('df-1f8316ce-1f82-481e-b99d-057f91460172')\"\n",
              "              title=\"Convert this dataframe to an interactive table.\"\n",
              "              style=\"display:none;\">\n",
              "        \n",
              "  <svg xmlns=\"http://www.w3.org/2000/svg\" height=\"24px\"viewBox=\"0 0 24 24\"\n",
              "       width=\"24px\">\n",
              "    <path d=\"M0 0h24v24H0V0z\" fill=\"none\"/>\n",
              "    <path d=\"M18.56 5.44l.94 2.06.94-2.06 2.06-.94-2.06-.94-.94-2.06-.94 2.06-2.06.94zm-11 1L8.5 8.5l.94-2.06 2.06-.94-2.06-.94L8.5 2.5l-.94 2.06-2.06.94zm10 10l.94 2.06.94-2.06 2.06-.94-2.06-.94-.94-2.06-.94 2.06-2.06.94z\"/><path d=\"M17.41 7.96l-1.37-1.37c-.4-.4-.92-.59-1.43-.59-.52 0-1.04.2-1.43.59L10.3 9.45l-7.72 7.72c-.78.78-.78 2.05 0 2.83L4 21.41c.39.39.9.59 1.41.59.51 0 1.02-.2 1.41-.59l7.78-7.78 2.81-2.81c.8-.78.8-2.07 0-2.86zM5.41 20L4 18.59l7.72-7.72 1.47 1.35L5.41 20z\"/>\n",
              "  </svg>\n",
              "      </button>\n",
              "      \n",
              "  <style>\n",
              "    .colab-df-container {\n",
              "      display:flex;\n",
              "      flex-wrap:wrap;\n",
              "      gap: 12px;\n",
              "    }\n",
              "\n",
              "    .colab-df-convert {\n",
              "      background-color: #E8F0FE;\n",
              "      border: none;\n",
              "      border-radius: 50%;\n",
              "      cursor: pointer;\n",
              "      display: none;\n",
              "      fill: #1967D2;\n",
              "      height: 32px;\n",
              "      padding: 0 0 0 0;\n",
              "      width: 32px;\n",
              "    }\n",
              "\n",
              "    .colab-df-convert:hover {\n",
              "      background-color: #E2EBFA;\n",
              "      box-shadow: 0px 1px 2px rgba(60, 64, 67, 0.3), 0px 1px 3px 1px rgba(60, 64, 67, 0.15);\n",
              "      fill: #174EA6;\n",
              "    }\n",
              "\n",
              "    [theme=dark] .colab-df-convert {\n",
              "      background-color: #3B4455;\n",
              "      fill: #D2E3FC;\n",
              "    }\n",
              "\n",
              "    [theme=dark] .colab-df-convert:hover {\n",
              "      background-color: #434B5C;\n",
              "      box-shadow: 0px 1px 3px 1px rgba(0, 0, 0, 0.15);\n",
              "      filter: drop-shadow(0px 1px 2px rgba(0, 0, 0, 0.3));\n",
              "      fill: #FFFFFF;\n",
              "    }\n",
              "  </style>\n",
              "\n",
              "      <script>\n",
              "        const buttonEl =\n",
              "          document.querySelector('#df-1f8316ce-1f82-481e-b99d-057f91460172 button.colab-df-convert');\n",
              "        buttonEl.style.display =\n",
              "          google.colab.kernel.accessAllowed ? 'block' : 'none';\n",
              "\n",
              "        async function convertToInteractive(key) {\n",
              "          const element = document.querySelector('#df-1f8316ce-1f82-481e-b99d-057f91460172');\n",
              "          const dataTable =\n",
              "            await google.colab.kernel.invokeFunction('convertToInteractive',\n",
              "                                                     [key], {});\n",
              "          if (!dataTable) return;\n",
              "\n",
              "          const docLinkHtml = 'Like what you see? Visit the ' +\n",
              "            '<a target=\"_blank\" href=https://colab.research.google.com/notebooks/data_table.ipynb>data table notebook</a>'\n",
              "            + ' to learn more about interactive tables.';\n",
              "          element.innerHTML = '';\n",
              "          dataTable['output_type'] = 'display_data';\n",
              "          await google.colab.output.renderOutput(dataTable, element);\n",
              "          const docLink = document.createElement('div');\n",
              "          docLink.innerHTML = docLinkHtml;\n",
              "          element.appendChild(docLink);\n",
              "        }\n",
              "      </script>\n",
              "    </div>\n",
              "  </div>\n",
              "  "
            ]
          },
          "metadata": {},
          "execution_count": 72
        }
      ],
      "source": [
        "df.describe()"
      ]
    },
    {
      "cell_type": "code",
      "execution_count": null,
      "metadata": {
        "colab": {
          "base_uri": "https://localhost:8080/"
        },
        "id": "uoWlg2Mly5td",
        "outputId": "687cbb5a-6bd3-4411-da0e-f5994f60430a"
      },
      "outputs": [
        {
          "output_type": "stream",
          "name": "stdout",
          "text": [
            "portsweep.    320\n",
            "teardrop.     300\n",
            "satan.        295\n",
            "normal.       274\n",
            "smurf.        255\n",
            "neptune.      205\n",
            "Name: attack, dtype: int64\n"
          ]
        }
      ],
      "source": [
        "#print the count of network status value\n",
        "print(df['attack'].value_counts())"
      ]
    },
    {
      "cell_type": "code",
      "execution_count": null,
      "metadata": {
        "colab": {
          "base_uri": "https://localhost:8080/",
          "height": 513
        },
        "id": "yNoEI8KPzJbz",
        "outputId": "f488d1fb-ffc5-4c8c-b811-018e20a11c3e"
      },
      "outputs": [
        {
          "output_type": "display_data",
          "data": {
            "text/plain": [
              "<Figure size 1080x576 with 1 Axes>"
            ],
            "image/png": "[encoded data removed]"
          },
          "metadata": {
            "needs_background": "light"
          }
        }
      ],
      "source": [
        "#data visualization and pre-processing\n",
        "fig_size = plt.rcParams[\"figure.figsize\"]\n",
        "fig_size[0] = 15\n",
        "fig_size[1] = 8\n",
        "plt.rcParams[\"figure.figsize\"] = fig_size\n",
        "plt.title('Network Status')\n",
        "plt.ylabel('Number of Network Flow')\n",
        "plt.xlabel('Network Flow')\n",
        "plt.grid(True)\n",
        "plt.autoscale(axis='x', tight=True)\n",
        "plt.plot(df['attack'].value_counts())\n",
        "plt.show()"
      ]
    },
    {
      "cell_type": "code",
      "execution_count": null,
      "metadata": {
        "colab": {
          "base_uri": "https://localhost:8080/"
        },
        "id": "L3xhasegzNB6",
        "outputId": "60298e9b-9df9-4fe4-875c-4b8773f7dbe7"
      },
      "outputs": [
        {
          "output_type": "stream",
          "name": "stdout",
          "text": [
            "      duration protocol_type  service flag  src_bytes  dst_bytes  land  \\\n",
            "0            0           tcp     http   SF        239        486     0   \n",
            "1            0           tcp     http   SF        235       1337     0   \n",
            "2            0           tcp     http   SF        219       1337     0   \n",
            "3            0           tcp     http   SF        217       2032     0   \n",
            "4            0           tcp     http   SF        217       2032     0   \n",
            "...        ...           ...      ...  ...        ...        ...   ...   \n",
            "1644         0           udp  private   SF         28          0     0   \n",
            "1645         0           udp  private   SF         28          0     0   \n",
            "1646         0           udp  private   SF         28          0     0   \n",
            "1647         0           udp  private   SF         28          0     0   \n",
            "1648         0           udp  private   SF         28          0     0   \n",
            "\n",
            "      wrong_fragment  urgent  hot  ...  dst_host_srv_count  \\\n",
            "0                  0       0    0  ...                  19   \n",
            "1                  0       0    0  ...                  29   \n",
            "2                  0       0    0  ...                  39   \n",
            "3                  0       0    0  ...                  49   \n",
            "4                  0       0    0  ...                  59   \n",
            "...              ...     ...  ...  ...                 ...   \n",
            "1644               3       0    0  ...                  71   \n",
            "1645               3       0    0  ...                  72   \n",
            "1646               3       0    0  ...                  73   \n",
            "1647               3       0    0  ...                  74   \n",
            "1648               3       0    0  ...                  75   \n",
            "\n",
            "      dst_host_same_srv_rate  dst_host_diff_srv_rate  \\\n",
            "0                       1.00                    0.00   \n",
            "1                       1.00                    0.00   \n",
            "2                       1.00                    0.00   \n",
            "3                       1.00                    0.00   \n",
            "4                       1.00                    0.00   \n",
            "...                      ...                     ...   \n",
            "1644                    0.28                    0.73   \n",
            "1645                    0.28                    0.72   \n",
            "1646                    0.29                    0.72   \n",
            "1647                    0.29                    0.71   \n",
            "1648                    0.29                    0.71   \n",
            "\n",
            "      dst_host_same_src_port_rate  dst_host_srv_diff_host_rate  \\\n",
            "0                            0.05                          0.0   \n",
            "1                            0.03                          0.0   \n",
            "2                            0.03                          0.0   \n",
            "3                            0.02                          0.0   \n",
            "4                            0.02                          0.0   \n",
            "...                           ...                          ...   \n",
            "1644                         0.28                          0.0   \n",
            "1645                         0.28                          0.0   \n",
            "1646                         0.29                          0.0   \n",
            "1647                         0.29                          0.0   \n",
            "1648                         0.29                          0.0   \n",
            "\n",
            "      dst_host_serror_rate  dst_host_srv_serror_rate  dst_host_rerror_rate  \\\n",
            "0                     0.00                       0.0                  0.00   \n",
            "1                     0.00                       0.0                  0.00   \n",
            "2                     0.00                       0.0                  0.00   \n",
            "3                     0.00                       0.0                  0.00   \n",
            "4                     0.00                       0.0                  0.00   \n",
            "...                    ...                       ...                   ...   \n",
            "1644                  0.09                       0.0                  0.64   \n",
            "1645                  0.09                       0.0                  0.63   \n",
            "1646                  0.09                       0.0                  0.63   \n",
            "1647                  0.09                       0.0                  0.62   \n",
            "1648                  0.09                       0.0                  0.62   \n",
            "\n",
            "      dst_host_srv_rerror_rate  attack  \n",
            "0                          0.0       0  \n",
            "1                          0.0       0  \n",
            "2                          0.0       0  \n",
            "3                          0.0       0  \n",
            "4                          0.0       0  \n",
            "...                        ...     ...  \n",
            "1644                       0.0       5  \n",
            "1645                       0.0       5  \n",
            "1646                       0.0       5  \n",
            "1647                       0.0       5  \n",
            "1648                       0.0       5  \n",
            "\n",
            "[1649 rows x 42 columns]\n"
          ]
        }
      ],
      "source": [
        "#map network status to integer value\n",
        "df['attack'] = df['attack'].map({\"teardrop.\":5,\"satan.\":4,\"portsweep.\":3,\"smurf.\":2,\"neptune.\":1,\"normal.\":0})\n",
        "print(df)"
      ]
    },
    {
      "cell_type": "code",
      "execution_count": null,
      "metadata": {
        "id": "H9ghTw158vmH"
      },
      "outputs": [],
      "source": [
        "#split train test data\n",
        "#select index based on location by position\n",
        "X = df.iloc[:,4:41].values\n",
        "y = df.iloc[:, 41].values"
      ]
    },
    {
      "cell_type": "code",
      "execution_count": null,
      "metadata": {
        "id": "JVTWXziR8zLY"
      },
      "outputs": [],
      "source": [
        "#split selected arrays or matrices into random train and test subsets\n",
        "X_train, X_test, y_train, y_test = train_test_split(X, y, test_size = 0.30, random_state = 1)"
      ]
    },
    {
      "cell_type": "code",
      "execution_count": null,
      "metadata": {
        "id": "HJPRQD7W8zmB"
      },
      "outputs": [],
      "source": [
        "#process data\n",
        "#convert integer class vector to binary class matrix\n",
        "y_train = to_categorical(y_train)\n",
        "ytest = to_categorical(y_test)"
      ]
    },
    {
      "cell_type": "code",
      "execution_count": null,
      "metadata": {
        "id": "91RSYqnJzXkG"
      },
      "outputs": [],
      "source": [
        "# changing attack labels to their respective attack class\n",
        "def change_label(df1):\n",
        "  df1.attack.replace(['apache2.','back.','land.','neptune.','mailbomb.','pod.','processtable.','smurf.','teardrop.','udpstorm.','worm.'],'Dos',inplace=True)\n",
        "  df1.attack.replace(['ftp_write.','guess_passwd.','httptunnel.','imap.','multihop.','named.','phf.','sendmail.','snmpgetattack.','snmpguess.','spy.','warezclient.','warezmaster.','xlock.','xsnoop.'],'R2L',inplace=True)\n",
        "  df1.attack.replace(['ipsweep.','mscan.','nmap.','portsweep.','saint.','satan.'],'Probe',inplace=True)\n",
        "  df1.attack.replace(['buffer_overflow.','loadmodule.','perl.','ps.','rootkit.','sqlattack.','xterm.'],'U2R',inplace=True)\n",
        "change_label(df1)"
      ]
    },
    {
      "cell_type": "code",
      "execution_count": null,
      "metadata": {
        "colab": {
          "base_uri": "https://localhost:8080/"
        },
        "id": "wbuWtZN6zjCq",
        "outputId": "1ad92de6-15dc-4769-f7a1-44e35ce0eef5"
      },
      "outputs": [
        {
          "output_type": "execute_result",
          "data": {
            "text/plain": [
              "Dos        760\n",
              "Probe      615\n",
              "normal.    274\n",
              "Name: attack, dtype: int64"
            ]
          },
          "metadata": {},
          "execution_count": 80
        }
      ],
      "source": [
        "# distribution of attack classes\n",
        "df1.attack.value_counts()"
      ]
    },
    {
      "cell_type": "code",
      "execution_count": null,
      "metadata": {
        "id": "NkYbcbgQzmdD"
      },
      "outputs": [],
      "source": [
        "# importing required libraries for normalizing data\n",
        "from sklearn import preprocessing\n",
        "from sklearn.preprocessing import StandardScaler"
      ]
    },
    {
      "cell_type": "code",
      "execution_count": null,
      "metadata": {
        "id": "t6AzsM-Rzp9J"
      },
      "outputs": [],
      "source": [
        "# selecting numeric attributes columns from data\n",
        "numeric_col = df1.select_dtypes(include='number').columns"
      ]
    },
    {
      "cell_type": "code",
      "execution_count": null,
      "metadata": {
        "id": "LstLBMBU0UhL"
      },
      "outputs": [],
      "source": [
        "# normalize using standard scaler\n",
        "std_scaler = StandardScaler()\n",
        "def normalization(df1,col):\n",
        "  for i in col:\n",
        "    arr = df1[i]\n",
        "    arr = np.array(arr)\n",
        "    df1[i] = std_scaler.fit_transform(arr.reshape(len(arr),1))\n",
        "  return df1"
      ]
    },
    {
      "cell_type": "code",
      "execution_count": null,
      "metadata": {
        "colab": {
          "base_uri": "https://localhost:8080/",
          "height": 299
        },
        "id": "8FZ8sb3o0X7S",
        "outputId": "0412a0d0-3441-40f9-d348-83dfd7967768"
      },
      "outputs": [
        {
          "output_type": "execute_result",
          "data": {
            "text/plain": [
              "   duration protocol_type service flag  src_bytes  dst_bytes  land  \\\n",
              "0         0           tcp    http   SF        239        486     0   \n",
              "1         0           tcp    http   SF        235       1337     0   \n",
              "2         0           tcp    http   SF        219       1337     0   \n",
              "3         0           tcp    http   SF        217       2032     0   \n",
              "4         0           tcp    http   SF        217       2032     0   \n",
              "\n",
              "   wrong_fragment  urgent  hot  ...  dst_host_srv_count  \\\n",
              "0               0       0    0  ...                  19   \n",
              "1               0       0    0  ...                  29   \n",
              "2               0       0    0  ...                  39   \n",
              "3               0       0    0  ...                  49   \n",
              "4               0       0    0  ...                  59   \n",
              "\n",
              "   dst_host_same_srv_rate  dst_host_diff_srv_rate  \\\n",
              "0                     1.0                     0.0   \n",
              "1                     1.0                     0.0   \n",
              "2                     1.0                     0.0   \n",
              "3                     1.0                     0.0   \n",
              "4                     1.0                     0.0   \n",
              "\n",
              "   dst_host_same_src_port_rate  dst_host_srv_diff_host_rate  \\\n",
              "0                         0.05                          0.0   \n",
              "1                         0.03                          0.0   \n",
              "2                         0.03                          0.0   \n",
              "3                         0.02                          0.0   \n",
              "4                         0.02                          0.0   \n",
              "\n",
              "   dst_host_serror_rate  dst_host_srv_serror_rate  dst_host_rerror_rate  \\\n",
              "0                   0.0                       0.0                   0.0   \n",
              "1                   0.0                       0.0                   0.0   \n",
              "2                   0.0                       0.0                   0.0   \n",
              "3                   0.0                       0.0                   0.0   \n",
              "4                   0.0                       0.0                   0.0   \n",
              "\n",
              "   dst_host_srv_rerror_rate   attack  \n",
              "0                       0.0  normal.  \n",
              "1                       0.0  normal.  \n",
              "2                       0.0  normal.  \n",
              "3                       0.0  normal.  \n",
              "4                       0.0  normal.  \n",
              "\n",
              "[5 rows x 42 columns]"
            ],
            "text/html": [
              "\n",
              "  <div id=\"df-decfa86b-c162-41bb-a7b5-3576a6caf3b0\">\n",
              "    <div class=\"colab-df-container\">\n",
              "      <div>\n",
              "<style scoped>\n",
              "    .dataframe tbody tr th:only-of-type {\n",
              "        vertical-align: middle;\n",
              "    }\n",
              "\n",
              "    .dataframe tbody tr th {\n",
              "        vertical-align: top;\n",
              "    }\n",
              "\n",
              "    .dataframe thead th {\n",
              "        text-align: right;\n",
              "    }\n",
              "</style>\n",
              "<table border=\"1\" class=\"dataframe\">\n",
              "  <thead>\n",
              "    <tr style=\"text-align: right;\">\n",
              "      <th></th>\n",
              "      <th>duration</th>\n",
              "      <th>protocol_type</th>\n",
              "      <th>service</th>\n",
              "      <th>flag</th>\n",
              "      <th>src_bytes</th>\n",
              "      <th>dst_bytes</th>\n",
              "      <th>land</th>\n",
              "      <th>wrong_fragment</th>\n",
              "      <th>urgent</th>\n",
              "      <th>hot</th>\n",
              "      <th>...</th>\n",
              "      <th>dst_host_srv_count</th>\n",
              "      <th>dst_host_same_srv_rate</th>\n",
              "      <th>dst_host_diff_srv_rate</th>\n",
              "      <th>dst_host_same_src_port_rate</th>\n",
              "      <th>dst_host_srv_diff_host_rate</th>\n",
              "      <th>dst_host_serror_rate</th>\n",
              "      <th>dst_host_srv_serror_rate</th>\n",
              "      <th>dst_host_rerror_rate</th>\n",
              "      <th>dst_host_srv_rerror_rate</th>\n",
              "      <th>attack</th>\n",
              "    </tr>\n",
              "  </thead>\n",
              "  <tbody>\n",
              "    <tr>\n",
              "      <th>0</th>\n",
              "      <td>0</td>\n",
              "      <td>tcp</td>\n",
              "      <td>http</td>\n",
              "      <td>SF</td>\n",
              "      <td>239</td>\n",
              "      <td>486</td>\n",
              "      <td>0</td>\n",
              "      <td>0</td>\n",
              "      <td>0</td>\n",
              "      <td>0</td>\n",
              "      <td>...</td>\n",
              "      <td>19</td>\n",
              "      <td>1.0</td>\n",
              "      <td>0.0</td>\n",
              "      <td>0.05</td>\n",
              "      <td>0.0</td>\n",
              "      <td>0.0</td>\n",
              "      <td>0.0</td>\n",
              "      <td>0.0</td>\n",
              "      <td>0.0</td>\n",
              "      <td>normal.</td>\n",
              "    </tr>\n",
              "    <tr>\n",
              "      <th>1</th>\n",
              "      <td>0</td>\n",
              "      <td>tcp</td>\n",
              "      <td>http</td>\n",
              "      <td>SF</td>\n",
              "      <td>235</td>\n",
              "      <td>1337</td>\n",
              "      <td>0</td>\n",
              "      <td>0</td>\n",
              "      <td>0</td>\n",
              "      <td>0</td>\n",
              "      <td>...</td>\n",
              "      <td>29</td>\n",
              "      <td>1.0</td>\n",
              "      <td>0.0</td>\n",
              "      <td>0.03</td>\n",
              "      <td>0.0</td>\n",
              "      <td>0.0</td>\n",
              "      <td>0.0</td>\n",
              "      <td>0.0</td>\n",
              "      <td>0.0</td>\n",
              "      <td>normal.</td>\n",
              "    </tr>\n",
              "    <tr>\n",
              "      <th>2</th>\n",
              "      <td>0</td>\n",
              "      <td>tcp</td>\n",
              "      <td>http</td>\n",
              "      <td>SF</td>\n",
              "      <td>219</td>\n",
              "      <td>1337</td>\n",
              "      <td>0</td>\n",
              "      <td>0</td>\n",
              "      <td>0</td>\n",
              "      <td>0</td>\n",
              "      <td>...</td>\n",
              "      <td>39</td>\n",
              "      <td>1.0</td>\n",
              "      <td>0.0</td>\n",
              "      <td>0.03</td>\n",
              "      <td>0.0</td>\n",
              "      <td>0.0</td>\n",
              "      <td>0.0</td>\n",
              "      <td>0.0</td>\n",
              "      <td>0.0</td>\n",
              "      <td>normal.</td>\n",
              "    </tr>\n",
              "    <tr>\n",
              "      <th>3</th>\n",
              "      <td>0</td>\n",
              "      <td>tcp</td>\n",
              "      <td>http</td>\n",
              "      <td>SF</td>\n",
              "      <td>217</td>\n",
              "      <td>2032</td>\n",
              "      <td>0</td>\n",
              "      <td>0</td>\n",
              "      <td>0</td>\n",
              "      <td>0</td>\n",
              "      <td>...</td>\n",
              "      <td>49</td>\n",
              "      <td>1.0</td>\n",
              "      <td>0.0</td>\n",
              "      <td>0.02</td>\n",
              "      <td>0.0</td>\n",
              "      <td>0.0</td>\n",
              "      <td>0.0</td>\n",
              "      <td>0.0</td>\n",
              "      <td>0.0</td>\n",
              "      <td>normal.</td>\n",
              "    </tr>\n",
              "    <tr>\n",
              "      <th>4</th>\n",
              "      <td>0</td>\n",
              "      <td>tcp</td>\n",
              "      <td>http</td>\n",
              "      <td>SF</td>\n",
              "      <td>217</td>\n",
              "      <td>2032</td>\n",
              "      <td>0</td>\n",
              "      <td>0</td>\n",
              "      <td>0</td>\n",
              "      <td>0</td>\n",
              "      <td>...</td>\n",
              "      <td>59</td>\n",
              "      <td>1.0</td>\n",
              "      <td>0.0</td>\n",
              "      <td>0.02</td>\n",
              "      <td>0.0</td>\n",
              "      <td>0.0</td>\n",
              "      <td>0.0</td>\n",
              "      <td>0.0</td>\n",
              "      <td>0.0</td>\n",
              "      <td>normal.</td>\n",
              "    </tr>\n",
              "  </tbody>\n",
              "</table>\n",
              "<p>5 rows × 42 columns</p>\n",
              "</div>\n",
              "      <button class=\"colab-df-convert\" onclick=\"convertToInteractive('df-decfa86b-c162-41bb-a7b5-3576a6caf3b0')\"\n",
              "              title=\"Convert this dataframe to an interactive table.\"\n",
              "              style=\"display:none;\">\n",
              "        \n",
              "  <svg xmlns=\"http://www.w3.org/2000/svg\" height=\"24px\"viewBox=\"0 0 24 24\"\n",
              "       width=\"24px\">\n",
              "    <path d=\"M0 0h24v24H0V0z\" fill=\"none\"/>\n",
              "    <path d=\"M18.56 5.44l.94 2.06.94-2.06 2.06-.94-2.06-.94-.94-2.06-.94 2.06-2.06.94zm-11 1L8.5 8.5l.94-2.06 2.06-.94-2.06-.94L8.5 2.5l-.94 2.06-2.06.94zm10 10l.94 2.06.94-2.06 2.06-.94-2.06-.94-.94-2.06-.94 2.06-2.06.94z\"/><path d=\"M17.41 7.96l-1.37-1.37c-.4-.4-.92-.59-1.43-.59-.52 0-1.04.2-1.43.59L10.3 9.45l-7.72 7.72c-.78.78-.78 2.05 0 2.83L4 21.41c.39.39.9.59 1.41.59.51 0 1.02-.2 1.41-.59l7.78-7.78 2.81-2.81c.8-.78.8-2.07 0-2.86zM5.41 20L4 18.59l7.72-7.72 1.47 1.35L5.41 20z\"/>\n",
              "  </svg>\n",
              "      </button>\n",
              "      \n",
              "  <style>\n",
              "    .colab-df-container {\n",
              "      display:flex;\n",
              "      flex-wrap:wrap;\n",
              "      gap: 12px;\n",
              "    }\n",
              "\n",
              "    .colab-df-convert {\n",
              "      background-color: #E8F0FE;\n",
              "      border: none;\n",
              "      border-radius: 50%;\n",
              "      cursor: pointer;\n",
              "      display: none;\n",
              "      fill: #1967D2;\n",
              "      height: 32px;\n",
              "      padding: 0 0 0 0;\n",
              "      width: 32px;\n",
              "    }\n",
              "\n",
              "    .colab-df-convert:hover {\n",
              "      background-color: #E2EBFA;\n",
              "      box-shadow: 0px 1px 2px rgba(60, 64, 67, 0.3), 0px 1px 3px 1px rgba(60, 64, 67, 0.15);\n",
              "      fill: #174EA6;\n",
              "    }\n",
              "\n",
              "    [theme=dark] .colab-df-convert {\n",
              "      background-color: #3B4455;\n",
              "      fill: #D2E3FC;\n",
              "    }\n",
              "\n",
              "    [theme=dark] .colab-df-convert:hover {\n",
              "      background-color: #434B5C;\n",
              "      box-shadow: 0px 1px 3px 1px rgba(0, 0, 0, 0.15);\n",
              "      filter: drop-shadow(0px 1px 2px rgba(0, 0, 0, 0.3));\n",
              "      fill: #FFFFFF;\n",
              "    }\n",
              "  </style>\n",
              "\n",
              "      <script>\n",
              "        const buttonEl =\n",
              "          document.querySelector('#df-decfa86b-c162-41bb-a7b5-3576a6caf3b0 button.colab-df-convert');\n",
              "        buttonEl.style.display =\n",
              "          google.colab.kernel.accessAllowed ? 'block' : 'none';\n",
              "\n",
              "        async function convertToInteractive(key) {\n",
              "          const element = document.querySelector('#df-decfa86b-c162-41bb-a7b5-3576a6caf3b0');\n",
              "          const dataTable =\n",
              "            await google.colab.kernel.invokeFunction('convertToInteractive',\n",
              "                                                     [key], {});\n",
              "          if (!dataTable) return;\n",
              "\n",
              "          const docLinkHtml = 'Like what you see? Visit the ' +\n",
              "            '<a target=\"_blank\" href=https://colab.research.google.com/notebooks/data_table.ipynb>data table notebook</a>'\n",
              "            + ' to learn more about interactive tables.';\n",
              "          element.innerHTML = '';\n",
              "          dataTable['output_type'] = 'display_data';\n",
              "          await google.colab.output.renderOutput(dataTable, element);\n",
              "          const docLink = document.createElement('div');\n",
              "          docLink.innerHTML = docLinkHtml;\n",
              "          element.appendChild(docLink);\n",
              "        }\n",
              "      </script>\n",
              "    </div>\n",
              "  </div>\n",
              "  "
            ]
          },
          "metadata": {},
          "execution_count": 84
        }
      ],
      "source": [
        "df1.head()"
      ]
    },
    {
      "cell_type": "code",
      "execution_count": null,
      "metadata": {
        "colab": {
          "base_uri": "https://localhost:8080/",
          "height": 299
        },
        "id": "7ehrhQcB0aa6",
        "outputId": "de25c9f7-20cd-475f-a6c4-ef9ccef869fc"
      },
      "outputs": [
        {
          "output_type": "execute_result",
          "data": {
            "text/plain": [
              "   duration protocol_type service flag  src_bytes  dst_bytes  land  \\\n",
              "0 -0.267305           tcp    http   SF   0.101862   0.093801   0.0   \n",
              "1 -0.267305           tcp    http   SF   0.090875   0.656161   0.0   \n",
              "2 -0.267305           tcp    http   SF   0.046927   0.656161   0.0   \n",
              "3 -0.267305           tcp    http   SF   0.041433   1.115432   0.0   \n",
              "4 -0.267305           tcp    http   SF   0.041433   1.115432   0.0   \n",
              "\n",
              "   wrong_fragment  urgent       hot  ...  dst_host_srv_count  \\\n",
              "0       -0.471579     0.0 -0.078111  ...           -0.566233   \n",
              "1       -0.471579     0.0 -0.078111  ...           -0.464332   \n",
              "2       -0.471579     0.0 -0.078111  ...           -0.362431   \n",
              "3       -0.471579     0.0 -0.078111  ...           -0.260530   \n",
              "4       -0.471579     0.0 -0.078111  ...           -0.158629   \n",
              "\n",
              "   dst_host_same_srv_rate  dst_host_diff_srv_rate  \\\n",
              "0                1.432203               -0.983292   \n",
              "1                1.432203               -0.983292   \n",
              "2                1.432203               -0.983292   \n",
              "3                1.432203               -0.983292   \n",
              "4                1.432203               -0.983292   \n",
              "\n",
              "   dst_host_same_src_port_rate  dst_host_srv_diff_host_rate  \\\n",
              "0                    -0.713887                    -0.395048   \n",
              "1                    -0.763955                    -0.395048   \n",
              "2                    -0.763955                    -0.395048   \n",
              "3                    -0.788989                    -0.395048   \n",
              "4                    -0.788989                    -0.395048   \n",
              "\n",
              "   dst_host_serror_rate  dst_host_srv_serror_rate  dst_host_rerror_rate  \\\n",
              "0             -0.519142                  -0.40767             -1.041411   \n",
              "1             -0.519142                  -0.40767             -1.041411   \n",
              "2             -0.519142                  -0.40767             -1.041411   \n",
              "3             -0.519142                  -0.40767             -1.041411   \n",
              "4             -0.519142                  -0.40767             -1.041411   \n",
              "\n",
              "   dst_host_srv_rerror_rate   attack  \n",
              "0                 -0.722341  normal.  \n",
              "1                 -0.722341  normal.  \n",
              "2                 -0.722341  normal.  \n",
              "3                 -0.722341  normal.  \n",
              "4                 -0.722341  normal.  \n",
              "\n",
              "[5 rows x 42 columns]"
            ],
            "text/html": [
              "\n",
              "  <div id=\"df-efa4f49b-d96a-49c1-8c8b-96e06ba16e54\">\n",
              "    <div class=\"colab-df-container\">\n",
              "      <div>\n",
              "<style scoped>\n",
              "    .dataframe tbody tr th:only-of-type {\n",
              "        vertical-align: middle;\n",
              "    }\n",
              "\n",
              "    .dataframe tbody tr th {\n",
              "        vertical-align: top;\n",
              "    }\n",
              "\n",
              "    .dataframe thead th {\n",
              "        text-align: right;\n",
              "    }\n",
              "</style>\n",
              "<table border=\"1\" class=\"dataframe\">\n",
              "  <thead>\n",
              "    <tr style=\"text-align: right;\">\n",
              "      <th></th>\n",
              "      <th>duration</th>\n",
              "      <th>protocol_type</th>\n",
              "      <th>service</th>\n",
              "      <th>flag</th>\n",
              "      <th>src_bytes</th>\n",
              "      <th>dst_bytes</th>\n",
              "      <th>land</th>\n",
              "      <th>wrong_fragment</th>\n",
              "      <th>urgent</th>\n",
              "      <th>hot</th>\n",
              "      <th>...</th>\n",
              "      <th>dst_host_srv_count</th>\n",
              "      <th>dst_host_same_srv_rate</th>\n",
              "      <th>dst_host_diff_srv_rate</th>\n",
              "      <th>dst_host_same_src_port_rate</th>\n",
              "      <th>dst_host_srv_diff_host_rate</th>\n",
              "      <th>dst_host_serror_rate</th>\n",
              "      <th>dst_host_srv_serror_rate</th>\n",
              "      <th>dst_host_rerror_rate</th>\n",
              "      <th>dst_host_srv_rerror_rate</th>\n",
              "      <th>attack</th>\n",
              "    </tr>\n",
              "  </thead>\n",
              "  <tbody>\n",
              "    <tr>\n",
              "      <th>0</th>\n",
              "      <td>-0.267305</td>\n",
              "      <td>tcp</td>\n",
              "      <td>http</td>\n",
              "      <td>SF</td>\n",
              "      <td>0.101862</td>\n",
              "      <td>0.093801</td>\n",
              "      <td>0.0</td>\n",
              "      <td>-0.471579</td>\n",
              "      <td>0.0</td>\n",
              "      <td>-0.078111</td>\n",
              "      <td>...</td>\n",
              "      <td>-0.566233</td>\n",
              "      <td>1.432203</td>\n",
              "      <td>-0.983292</td>\n",
              "      <td>-0.713887</td>\n",
              "      <td>-0.395048</td>\n",
              "      <td>-0.519142</td>\n",
              "      <td>-0.40767</td>\n",
              "      <td>-1.041411</td>\n",
              "      <td>-0.722341</td>\n",
              "      <td>normal.</td>\n",
              "    </tr>\n",
              "    <tr>\n",
              "      <th>1</th>\n",
              "      <td>-0.267305</td>\n",
              "      <td>tcp</td>\n",
              "      <td>http</td>\n",
              "      <td>SF</td>\n",
              "      <td>0.090875</td>\n",
              "      <td>0.656161</td>\n",
              "      <td>0.0</td>\n",
              "      <td>-0.471579</td>\n",
              "      <td>0.0</td>\n",
              "      <td>-0.078111</td>\n",
              "      <td>...</td>\n",
              "      <td>-0.464332</td>\n",
              "      <td>1.432203</td>\n",
              "      <td>-0.983292</td>\n",
              "      <td>-0.763955</td>\n",
              "      <td>-0.395048</td>\n",
              "      <td>-0.519142</td>\n",
              "      <td>-0.40767</td>\n",
              "      <td>-1.041411</td>\n",
              "      <td>-0.722341</td>\n",
              "      <td>normal.</td>\n",
              "    </tr>\n",
              "    <tr>\n",
              "      <th>2</th>\n",
              "      <td>-0.267305</td>\n",
              "      <td>tcp</td>\n",
              "      <td>http</td>\n",
              "      <td>SF</td>\n",
              "      <td>0.046927</td>\n",
              "      <td>0.656161</td>\n",
              "      <td>0.0</td>\n",
              "      <td>-0.471579</td>\n",
              "      <td>0.0</td>\n",
              "      <td>-0.078111</td>\n",
              "      <td>...</td>\n",
              "      <td>-0.362431</td>\n",
              "      <td>1.432203</td>\n",
              "      <td>-0.983292</td>\n",
              "      <td>-0.763955</td>\n",
              "      <td>-0.395048</td>\n",
              "      <td>-0.519142</td>\n",
              "      <td>-0.40767</td>\n",
              "      <td>-1.041411</td>\n",
              "      <td>-0.722341</td>\n",
              "      <td>normal.</td>\n",
              "    </tr>\n",
              "    <tr>\n",
              "      <th>3</th>\n",
              "      <td>-0.267305</td>\n",
              "      <td>tcp</td>\n",
              "      <td>http</td>\n",
              "      <td>SF</td>\n",
              "      <td>0.041433</td>\n",
              "      <td>1.115432</td>\n",
              "      <td>0.0</td>\n",
              "      <td>-0.471579</td>\n",
              "      <td>0.0</td>\n",
              "      <td>-0.078111</td>\n",
              "      <td>...</td>\n",
              "      <td>-0.260530</td>\n",
              "      <td>1.432203</td>\n",
              "      <td>-0.983292</td>\n",
              "      <td>-0.788989</td>\n",
              "      <td>-0.395048</td>\n",
              "      <td>-0.519142</td>\n",
              "      <td>-0.40767</td>\n",
              "      <td>-1.041411</td>\n",
              "      <td>-0.722341</td>\n",
              "      <td>normal.</td>\n",
              "    </tr>\n",
              "    <tr>\n",
              "      <th>4</th>\n",
              "      <td>-0.267305</td>\n",
              "      <td>tcp</td>\n",
              "      <td>http</td>\n",
              "      <td>SF</td>\n",
              "      <td>0.041433</td>\n",
              "      <td>1.115432</td>\n",
              "      <td>0.0</td>\n",
              "      <td>-0.471579</td>\n",
              "      <td>0.0</td>\n",
              "      <td>-0.078111</td>\n",
              "      <td>...</td>\n",
              "      <td>-0.158629</td>\n",
              "      <td>1.432203</td>\n",
              "      <td>-0.983292</td>\n",
              "      <td>-0.788989</td>\n",
              "      <td>-0.395048</td>\n",
              "      <td>-0.519142</td>\n",
              "      <td>-0.40767</td>\n",
              "      <td>-1.041411</td>\n",
              "      <td>-0.722341</td>\n",
              "      <td>normal.</td>\n",
              "    </tr>\n",
              "  </tbody>\n",
              "</table>\n",
              "<p>5 rows × 42 columns</p>\n",
              "</div>\n",
              "      <button class=\"colab-df-convert\" onclick=\"convertToInteractive('df-efa4f49b-d96a-49c1-8c8b-96e06ba16e54')\"\n",
              "              title=\"Convert this dataframe to an interactive table.\"\n",
              "              style=\"display:none;\">\n",
              "        \n",
              "  <svg xmlns=\"http://www.w3.org/2000/svg\" height=\"24px\"viewBox=\"0 0 24 24\"\n",
              "       width=\"24px\">\n",
              "    <path d=\"M0 0h24v24H0V0z\" fill=\"none\"/>\n",
              "    <path d=\"M18.56 5.44l.94 2.06.94-2.06 2.06-.94-2.06-.94-.94-2.06-.94 2.06-2.06.94zm-11 1L8.5 8.5l.94-2.06 2.06-.94-2.06-.94L8.5 2.5l-.94 2.06-2.06.94zm10 10l.94 2.06.94-2.06 2.06-.94-2.06-.94-.94-2.06-.94 2.06-2.06.94z\"/><path d=\"M17.41 7.96l-1.37-1.37c-.4-.4-.92-.59-1.43-.59-.52 0-1.04.2-1.43.59L10.3 9.45l-7.72 7.72c-.78.78-.78 2.05 0 2.83L4 21.41c.39.39.9.59 1.41.59.51 0 1.02-.2 1.41-.59l7.78-7.78 2.81-2.81c.8-.78.8-2.07 0-2.86zM5.41 20L4 18.59l7.72-7.72 1.47 1.35L5.41 20z\"/>\n",
              "  </svg>\n",
              "      </button>\n",
              "      \n",
              "  <style>\n",
              "    .colab-df-container {\n",
              "      display:flex;\n",
              "      flex-wrap:wrap;\n",
              "      gap: 12px;\n",
              "    }\n",
              "\n",
              "    .colab-df-convert {\n",
              "      background-color: #E8F0FE;\n",
              "      border: none;\n",
              "      border-radius: 50%;\n",
              "      cursor: pointer;\n",
              "      display: none;\n",
              "      fill: #1967D2;\n",
              "      height: 32px;\n",
              "      padding: 0 0 0 0;\n",
              "      width: 32px;\n",
              "    }\n",
              "\n",
              "    .colab-df-convert:hover {\n",
              "      background-color: #E2EBFA;\n",
              "      box-shadow: 0px 1px 2px rgba(60, 64, 67, 0.3), 0px 1px 3px 1px rgba(60, 64, 67, 0.15);\n",
              "      fill: #174EA6;\n",
              "    }\n",
              "\n",
              "    [theme=dark] .colab-df-convert {\n",
              "      background-color: #3B4455;\n",
              "      fill: #D2E3FC;\n",
              "    }\n",
              "\n",
              "    [theme=dark] .colab-df-convert:hover {\n",
              "      background-color: #434B5C;\n",
              "      box-shadow: 0px 1px 3px 1px rgba(0, 0, 0, 0.15);\n",
              "      filter: drop-shadow(0px 1px 2px rgba(0, 0, 0, 0.3));\n",
              "      fill: #FFFFFF;\n",
              "    }\n",
              "  </style>\n",
              "\n",
              "      <script>\n",
              "        const buttonEl =\n",
              "          document.querySelector('#df-efa4f49b-d96a-49c1-8c8b-96e06ba16e54 button.colab-df-convert');\n",
              "        buttonEl.style.display =\n",
              "          google.colab.kernel.accessAllowed ? 'block' : 'none';\n",
              "\n",
              "        async function convertToInteractive(key) {\n",
              "          const element = document.querySelector('#df-efa4f49b-d96a-49c1-8c8b-96e06ba16e54');\n",
              "          const dataTable =\n",
              "            await google.colab.kernel.invokeFunction('convertToInteractive',\n",
              "                                                     [key], {});\n",
              "          if (!dataTable) return;\n",
              "\n",
              "          const docLinkHtml = 'Like what you see? Visit the ' +\n",
              "            '<a target=\"_blank\" href=https://colab.research.google.com/notebooks/data_table.ipynb>data table notebook</a>'\n",
              "            + ' to learn more about interactive tables.';\n",
              "          element.innerHTML = '';\n",
              "          dataTable['output_type'] = 'display_data';\n",
              "          await google.colab.output.renderOutput(dataTable, element);\n",
              "          const docLink = document.createElement('div');\n",
              "          docLink.innerHTML = docLinkHtml;\n",
              "          element.appendChild(docLink);\n",
              "        }\n",
              "      </script>\n",
              "    </div>\n",
              "  </div>\n",
              "  "
            ]
          },
          "metadata": {},
          "execution_count": 85
        }
      ],
      "source": [
        "# calling the normalization() function\n",
        "data = normalization(df1.copy(),numeric_col)\n",
        "data.head()"
      ]
    },
    {
      "cell_type": "code",
      "execution_count": null,
      "metadata": {
        "id": "lQroN6Kd0fzW"
      },
      "outputs": [],
      "source": [
        "# creating a dataframe with multi-class labels\n",
        "multi_data = data.copy()\n",
        "multi_label = pd.DataFrame(multi_data.attack)"
      ]
    },
    {
      "cell_type": "code",
      "execution_count": null,
      "metadata": {
        "colab": {
          "base_uri": "https://localhost:8080/"
        },
        "id": "Gl0I5qb10lAx",
        "outputId": "c8327afa-b3dd-4d9f-db7d-09fd5c908e6a"
      },
      "outputs": [
        {
          "output_type": "execute_result",
          "data": {
            "text/plain": [
              "array(['Dos', 'Probe', 'normal.'], dtype=object)"
            ]
          },
          "metadata": {},
          "execution_count": 87
        }
      ],
      "source": [
        "# label encoding (0,1,2,3,4) multi-class labels (Dos,normal,Probe,R2L,U2R)\n",
        "labelen = preprocessing.LabelEncoder()\n",
        "enc_label = multi_label.apply(labelen.fit_transform)\n",
        "multi_data['attacknumber'] = enc_label\n",
        "labelen.classes_"
      ]
    },
    {
      "cell_type": "code",
      "execution_count": null,
      "metadata": {
        "id": "iXIytIkW0qZH"
      },
      "outputs": [],
      "source": [
        "np.save(\"labelen_classes.npy\",labelen.classes_,allow_pickle=True)"
      ]
    },
    {
      "cell_type": "code",
      "execution_count": null,
      "metadata": {
        "colab": {
          "base_uri": "https://localhost:8080/",
          "height": 487
        },
        "id": "WPfNYE1M0s2U",
        "outputId": "773716e3-faa3-4b75-94eb-8e0a3dcd5caf"
      },
      "outputs": [
        {
          "output_type": "execute_result",
          "data": {
            "text/plain": [
              "      duration protocol_type  service flag  src_bytes  dst_bytes  land  \\\n",
              "0    -0.267305           tcp     http   SF   0.101862   0.093801   0.0   \n",
              "1    -0.267305           tcp     http   SF   0.090875   0.656161   0.0   \n",
              "2    -0.267305           tcp     http   SF   0.046927   0.656161   0.0   \n",
              "3    -0.267305           tcp     http   SF   0.041433   1.115432   0.0   \n",
              "4    -0.267305           tcp     http   SF   0.041433   1.115432   0.0   \n",
              "...        ...           ...      ...  ...        ...        ...   ...   \n",
              "1644 -0.267305           udp  private   SF  -0.477706  -0.227358   0.0   \n",
              "1645 -0.267305           udp  private   SF  -0.477706  -0.227358   0.0   \n",
              "1646 -0.267305           udp  private   SF  -0.477706  -0.227358   0.0   \n",
              "1647 -0.267305           udp  private   SF  -0.477706  -0.227358   0.0   \n",
              "1648 -0.267305           udp  private   SF  -0.477706  -0.227358   0.0   \n",
              "\n",
              "      wrong_fragment  urgent       hot  ...  dst_host_srv_diff_host_rate  \\\n",
              "0          -0.471579     0.0 -0.078111  ...                    -0.395048   \n",
              "1          -0.471579     0.0 -0.078111  ...                    -0.395048   \n",
              "2          -0.471579     0.0 -0.078111  ...                    -0.395048   \n",
              "3          -0.471579     0.0 -0.078111  ...                    -0.395048   \n",
              "4          -0.471579     0.0 -0.078111  ...                    -0.395048   \n",
              "...              ...     ...       ...  ...                          ...   \n",
              "1644        2.120535     0.0 -0.078111  ...                    -0.395048   \n",
              "1645        2.120535     0.0 -0.078111  ...                    -0.395048   \n",
              "1646        2.120535     0.0 -0.078111  ...                    -0.395048   \n",
              "1647        2.120535     0.0 -0.078111  ...                    -0.395048   \n",
              "1648        2.120535     0.0 -0.078111  ...                    -0.395048   \n",
              "\n",
              "      dst_host_serror_rate  dst_host_srv_serror_rate  dst_host_rerror_rate  \\\n",
              "0                -0.519142                  -0.40767             -1.041411   \n",
              "1                -0.519142                  -0.40767             -1.041411   \n",
              "2                -0.519142                  -0.40767             -1.041411   \n",
              "3                -0.519142                  -0.40767             -1.041411   \n",
              "4                -0.519142                  -0.40767             -1.041411   \n",
              "...                    ...                       ...                   ...   \n",
              "1644             -0.237181                  -0.40767              0.564468   \n",
              "1645             -0.237181                  -0.40767              0.539376   \n",
              "1646             -0.237181                  -0.40767              0.539376   \n",
              "1647             -0.237181                  -0.40767              0.514284   \n",
              "1648             -0.237181                  -0.40767              0.514284   \n",
              "\n",
              "      dst_host_srv_rerror_rate  attacknumber  Dos  Probe  normal.   attack  \n",
              "0                    -0.722341             2    0      0        1  normal.  \n",
              "1                    -0.722341             2    0      0        1  normal.  \n",
              "2                    -0.722341             2    0      0        1  normal.  \n",
              "3                    -0.722341             2    0      0        1  normal.  \n",
              "4                    -0.722341             2    0      0        1  normal.  \n",
              "...                        ...           ...  ...    ...      ...      ...  \n",
              "1644                 -0.722341             0    1      0        0      Dos  \n",
              "1645                 -0.722341             0    1      0        0      Dos  \n",
              "1646                 -0.722341             0    1      0        0      Dos  \n",
              "1647                 -0.722341             0    1      0        0      Dos  \n",
              "1648                 -0.722341             0    1      0        0      Dos  \n",
              "\n",
              "[1649 rows x 46 columns]"
            ],
            "text/html": [
              "\n",
              "  <div id=\"df-4b09b3d8-513e-4bbc-92ef-f343ce17f24f\">\n",
              "    <div class=\"colab-df-container\">\n",
              "      <div>\n",
              "<style scoped>\n",
              "    .dataframe tbody tr th:only-of-type {\n",
              "        vertical-align: middle;\n",
              "    }\n",
              "\n",
              "    .dataframe tbody tr th {\n",
              "        vertical-align: top;\n",
              "    }\n",
              "\n",
              "    .dataframe thead th {\n",
              "        text-align: right;\n",
              "    }\n",
              "</style>\n",
              "<table border=\"1\" class=\"dataframe\">\n",
              "  <thead>\n",
              "    <tr style=\"text-align: right;\">\n",
              "      <th></th>\n",
              "      <th>duration</th>\n",
              "      <th>protocol_type</th>\n",
              "      <th>service</th>\n",
              "      <th>flag</th>\n",
              "      <th>src_bytes</th>\n",
              "      <th>dst_bytes</th>\n",
              "      <th>land</th>\n",
              "      <th>wrong_fragment</th>\n",
              "      <th>urgent</th>\n",
              "      <th>hot</th>\n",
              "      <th>...</th>\n",
              "      <th>dst_host_srv_diff_host_rate</th>\n",
              "      <th>dst_host_serror_rate</th>\n",
              "      <th>dst_host_srv_serror_rate</th>\n",
              "      <th>dst_host_rerror_rate</th>\n",
              "      <th>dst_host_srv_rerror_rate</th>\n",
              "      <th>attacknumber</th>\n",
              "      <th>Dos</th>\n",
              "      <th>Probe</th>\n",
              "      <th>normal.</th>\n",
              "      <th>attack</th>\n",
              "    </tr>\n",
              "  </thead>\n",
              "  <tbody>\n",
              "    <tr>\n",
              "      <th>0</th>\n",
              "      <td>-0.267305</td>\n",
              "      <td>tcp</td>\n",
              "      <td>http</td>\n",
              "      <td>SF</td>\n",
              "      <td>0.101862</td>\n",
              "      <td>0.093801</td>\n",
              "      <td>0.0</td>\n",
              "      <td>-0.471579</td>\n",
              "      <td>0.0</td>\n",
              "      <td>-0.078111</td>\n",
              "      <td>...</td>\n",
              "      <td>-0.395048</td>\n",
              "      <td>-0.519142</td>\n",
              "      <td>-0.40767</td>\n",
              "      <td>-1.041411</td>\n",
              "      <td>-0.722341</td>\n",
              "      <td>2</td>\n",
              "      <td>0</td>\n",
              "      <td>0</td>\n",
              "      <td>1</td>\n",
              "      <td>normal.</td>\n",
              "    </tr>\n",
              "    <tr>\n",
              "      <th>1</th>\n",
              "      <td>-0.267305</td>\n",
              "      <td>tcp</td>\n",
              "      <td>http</td>\n",
              "      <td>SF</td>\n",
              "      <td>0.090875</td>\n",
              "      <td>0.656161</td>\n",
              "      <td>0.0</td>\n",
              "      <td>-0.471579</td>\n",
              "      <td>0.0</td>\n",
              "      <td>-0.078111</td>\n",
              "      <td>...</td>\n",
              "      <td>-0.395048</td>\n",
              "      <td>-0.519142</td>\n",
              "      <td>-0.40767</td>\n",
              "      <td>-1.041411</td>\n",
              "      <td>-0.722341</td>\n",
              "      <td>2</td>\n",
              "      <td>0</td>\n",
              "      <td>0</td>\n",
              "      <td>1</td>\n",
              "      <td>normal.</td>\n",
              "    </tr>\n",
              "    <tr>\n",
              "      <th>2</th>\n",
              "      <td>-0.267305</td>\n",
              "      <td>tcp</td>\n",
              "      <td>http</td>\n",
              "      <td>SF</td>\n",
              "      <td>0.046927</td>\n",
              "      <td>0.656161</td>\n",
              "      <td>0.0</td>\n",
              "      <td>-0.471579</td>\n",
              "      <td>0.0</td>\n",
              "      <td>-0.078111</td>\n",
              "      <td>...</td>\n",
              "      <td>-0.395048</td>\n",
              "      <td>-0.519142</td>\n",
              "      <td>-0.40767</td>\n",
              "      <td>-1.041411</td>\n",
              "      <td>-0.722341</td>\n",
              "      <td>2</td>\n",
              "      <td>0</td>\n",
              "      <td>0</td>\n",
              "      <td>1</td>\n",
              "      <td>normal.</td>\n",
              "    </tr>\n",
              "    <tr>\n",
              "      <th>3</th>\n",
              "      <td>-0.267305</td>\n",
              "      <td>tcp</td>\n",
              "      <td>http</td>\n",
              "      <td>SF</td>\n",
              "      <td>0.041433</td>\n",
              "      <td>1.115432</td>\n",
              "      <td>0.0</td>\n",
              "      <td>-0.471579</td>\n",
              "      <td>0.0</td>\n",
              "      <td>-0.078111</td>\n",
              "      <td>...</td>\n",
              "      <td>-0.395048</td>\n",
              "      <td>-0.519142</td>\n",
              "      <td>-0.40767</td>\n",
              "      <td>-1.041411</td>\n",
              "      <td>-0.722341</td>\n",
              "      <td>2</td>\n",
              "      <td>0</td>\n",
              "      <td>0</td>\n",
              "      <td>1</td>\n",
              "      <td>normal.</td>\n",
              "    </tr>\n",
              "    <tr>\n",
              "      <th>4</th>\n",
              "      <td>-0.267305</td>\n",
              "      <td>tcp</td>\n",
              "      <td>http</td>\n",
              "      <td>SF</td>\n",
              "      <td>0.041433</td>\n",
              "      <td>1.115432</td>\n",
              "      <td>0.0</td>\n",
              "      <td>-0.471579</td>\n",
              "      <td>0.0</td>\n",
              "      <td>-0.078111</td>\n",
              "      <td>...</td>\n",
              "      <td>-0.395048</td>\n",
              "      <td>-0.519142</td>\n",
              "      <td>-0.40767</td>\n",
              "      <td>-1.041411</td>\n",
              "      <td>-0.722341</td>\n",
              "      <td>2</td>\n",
              "      <td>0</td>\n",
              "      <td>0</td>\n",
              "      <td>1</td>\n",
              "      <td>normal.</td>\n",
              "    </tr>\n",
              "    <tr>\n",
              "      <th>...</th>\n",
              "      <td>...</td>\n",
              "      <td>...</td>\n",
              "      <td>...</td>\n",
              "      <td>...</td>\n",
              "      <td>...</td>\n",
              "      <td>...</td>\n",
              "      <td>...</td>\n",
              "      <td>...</td>\n",
              "      <td>...</td>\n",
              "      <td>...</td>\n",
              "      <td>...</td>\n",
              "      <td>...</td>\n",
              "      <td>...</td>\n",
              "      <td>...</td>\n",
              "      <td>...</td>\n",
              "      <td>...</td>\n",
              "      <td>...</td>\n",
              "      <td>...</td>\n",
              "      <td>...</td>\n",
              "      <td>...</td>\n",
              "      <td>...</td>\n",
              "    </tr>\n",
              "    <tr>\n",
              "      <th>1644</th>\n",
              "      <td>-0.267305</td>\n",
              "      <td>udp</td>\n",
              "      <td>private</td>\n",
              "      <td>SF</td>\n",
              "      <td>-0.477706</td>\n",
              "      <td>-0.227358</td>\n",
              "      <td>0.0</td>\n",
              "      <td>2.120535</td>\n",
              "      <td>0.0</td>\n",
              "      <td>-0.078111</td>\n",
              "      <td>...</td>\n",
              "      <td>-0.395048</td>\n",
              "      <td>-0.237181</td>\n",
              "      <td>-0.40767</td>\n",
              "      <td>0.564468</td>\n",
              "      <td>-0.722341</td>\n",
              "      <td>0</td>\n",
              "      <td>1</td>\n",
              "      <td>0</td>\n",
              "      <td>0</td>\n",
              "      <td>Dos</td>\n",
              "    </tr>\n",
              "    <tr>\n",
              "      <th>1645</th>\n",
              "      <td>-0.267305</td>\n",
              "      <td>udp</td>\n",
              "      <td>private</td>\n",
              "      <td>SF</td>\n",
              "      <td>-0.477706</td>\n",
              "      <td>-0.227358</td>\n",
              "      <td>0.0</td>\n",
              "      <td>2.120535</td>\n",
              "      <td>0.0</td>\n",
              "      <td>-0.078111</td>\n",
              "      <td>...</td>\n",
              "      <td>-0.395048</td>\n",
              "      <td>-0.237181</td>\n",
              "      <td>-0.40767</td>\n",
              "      <td>0.539376</td>\n",
              "      <td>-0.722341</td>\n",
              "      <td>0</td>\n",
              "      <td>1</td>\n",
              "      <td>0</td>\n",
              "      <td>0</td>\n",
              "      <td>Dos</td>\n",
              "    </tr>\n",
              "    <tr>\n",
              "      <th>1646</th>\n",
              "      <td>-0.267305</td>\n",
              "      <td>udp</td>\n",
              "      <td>private</td>\n",
              "      <td>SF</td>\n",
              "      <td>-0.477706</td>\n",
              "      <td>-0.227358</td>\n",
              "      <td>0.0</td>\n",
              "      <td>2.120535</td>\n",
              "      <td>0.0</td>\n",
              "      <td>-0.078111</td>\n",
              "      <td>...</td>\n",
              "      <td>-0.395048</td>\n",
              "      <td>-0.237181</td>\n",
              "      <td>-0.40767</td>\n",
              "      <td>0.539376</td>\n",
              "      <td>-0.722341</td>\n",
              "      <td>0</td>\n",
              "      <td>1</td>\n",
              "      <td>0</td>\n",
              "      <td>0</td>\n",
              "      <td>Dos</td>\n",
              "    </tr>\n",
              "    <tr>\n",
              "      <th>1647</th>\n",
              "      <td>-0.267305</td>\n",
              "      <td>udp</td>\n",
              "      <td>private</td>\n",
              "      <td>SF</td>\n",
              "      <td>-0.477706</td>\n",
              "      <td>-0.227358</td>\n",
              "      <td>0.0</td>\n",
              "      <td>2.120535</td>\n",
              "      <td>0.0</td>\n",
              "      <td>-0.078111</td>\n",
              "      <td>...</td>\n",
              "      <td>-0.395048</td>\n",
              "      <td>-0.237181</td>\n",
              "      <td>-0.40767</td>\n",
              "      <td>0.514284</td>\n",
              "      <td>-0.722341</td>\n",
              "      <td>0</td>\n",
              "      <td>1</td>\n",
              "      <td>0</td>\n",
              "      <td>0</td>\n",
              "      <td>Dos</td>\n",
              "    </tr>\n",
              "    <tr>\n",
              "      <th>1648</th>\n",
              "      <td>-0.267305</td>\n",
              "      <td>udp</td>\n",
              "      <td>private</td>\n",
              "      <td>SF</td>\n",
              "      <td>-0.477706</td>\n",
              "      <td>-0.227358</td>\n",
              "      <td>0.0</td>\n",
              "      <td>2.120535</td>\n",
              "      <td>0.0</td>\n",
              "      <td>-0.078111</td>\n",
              "      <td>...</td>\n",
              "      <td>-0.395048</td>\n",
              "      <td>-0.237181</td>\n",
              "      <td>-0.40767</td>\n",
              "      <td>0.514284</td>\n",
              "      <td>-0.722341</td>\n",
              "      <td>0</td>\n",
              "      <td>1</td>\n",
              "      <td>0</td>\n",
              "      <td>0</td>\n",
              "      <td>Dos</td>\n",
              "    </tr>\n",
              "  </tbody>\n",
              "</table>\n",
              "<p>1649 rows × 46 columns</p>\n",
              "</div>\n",
              "      <button class=\"colab-df-convert\" onclick=\"convertToInteractive('df-4b09b3d8-513e-4bbc-92ef-f343ce17f24f')\"\n",
              "              title=\"Convert this dataframe to an interactive table.\"\n",
              "              style=\"display:none;\">\n",
              "        \n",
              "  <svg xmlns=\"http://www.w3.org/2000/svg\" height=\"24px\"viewBox=\"0 0 24 24\"\n",
              "       width=\"24px\">\n",
              "    <path d=\"M0 0h24v24H0V0z\" fill=\"none\"/>\n",
              "    <path d=\"M18.56 5.44l.94 2.06.94-2.06 2.06-.94-2.06-.94-.94-2.06-.94 2.06-2.06.94zm-11 1L8.5 8.5l.94-2.06 2.06-.94-2.06-.94L8.5 2.5l-.94 2.06-2.06.94zm10 10l.94 2.06.94-2.06 2.06-.94-2.06-.94-.94-2.06-.94 2.06-2.06.94z\"/><path d=\"M17.41 7.96l-1.37-1.37c-.4-.4-.92-.59-1.43-.59-.52 0-1.04.2-1.43.59L10.3 9.45l-7.72 7.72c-.78.78-.78 2.05 0 2.83L4 21.41c.39.39.9.59 1.41.59.51 0 1.02-.2 1.41-.59l7.78-7.78 2.81-2.81c.8-.78.8-2.07 0-2.86zM5.41 20L4 18.59l7.72-7.72 1.47 1.35L5.41 20z\"/>\n",
              "  </svg>\n",
              "      </button>\n",
              "      \n",
              "  <style>\n",
              "    .colab-df-container {\n",
              "      display:flex;\n",
              "      flex-wrap:wrap;\n",
              "      gap: 12px;\n",
              "    }\n",
              "\n",
              "    .colab-df-convert {\n",
              "      background-color: #E8F0FE;\n",
              "      border: none;\n",
              "      border-radius: 50%;\n",
              "      cursor: pointer;\n",
              "      display: none;\n",
              "      fill: #1967D2;\n",
              "      height: 32px;\n",
              "      padding: 0 0 0 0;\n",
              "      width: 32px;\n",
              "    }\n",
              "\n",
              "    .colab-df-convert:hover {\n",
              "      background-color: #E2EBFA;\n",
              "      box-shadow: 0px 1px 2px rgba(60, 64, 67, 0.3), 0px 1px 3px 1px rgba(60, 64, 67, 0.15);\n",
              "      fill: #174EA6;\n",
              "    }\n",
              "\n",
              "    [theme=dark] .colab-df-convert {\n",
              "      background-color: #3B4455;\n",
              "      fill: #D2E3FC;\n",
              "    }\n",
              "\n",
              "    [theme=dark] .colab-df-convert:hover {\n",
              "      background-color: #434B5C;\n",
              "      box-shadow: 0px 1px 3px 1px rgba(0, 0, 0, 0.15);\n",
              "      filter: drop-shadow(0px 1px 2px rgba(0, 0, 0, 0.3));\n",
              "      fill: #FFFFFF;\n",
              "    }\n",
              "  </style>\n",
              "\n",
              "      <script>\n",
              "        const buttonEl =\n",
              "          document.querySelector('#df-4b09b3d8-513e-4bbc-92ef-f343ce17f24f button.colab-df-convert');\n",
              "        buttonEl.style.display =\n",
              "          google.colab.kernel.accessAllowed ? 'block' : 'none';\n",
              "\n",
              "        async function convertToInteractive(key) {\n",
              "          const element = document.querySelector('#df-4b09b3d8-513e-4bbc-92ef-f343ce17f24f');\n",
              "          const dataTable =\n",
              "            await google.colab.kernel.invokeFunction('convertToInteractive',\n",
              "                                                     [key], {});\n",
              "          if (!dataTable) return;\n",
              "\n",
              "          const docLinkHtml = 'Like what you see? Visit the ' +\n",
              "            '<a target=\"_blank\" href=https://colab.research.google.com/notebooks/data_table.ipynb>data table notebook</a>'\n",
              "            + ' to learn more about interactive tables.';\n",
              "          element.innerHTML = '';\n",
              "          dataTable['output_type'] = 'display_data';\n",
              "          await google.colab.output.renderOutput(dataTable, element);\n",
              "          const docLink = document.createElement('div');\n",
              "          docLink.innerHTML = docLinkHtml;\n",
              "          element.appendChild(docLink);\n",
              "        }\n",
              "      </script>\n",
              "    </div>\n",
              "  </div>\n",
              "  "
            ]
          },
          "metadata": {},
          "execution_count": 89
        }
      ],
      "source": [
        "# encoding attack label\n",
        "multi_data = pd.get_dummies(multi_data,columns=['attack'],prefix=\"\",prefix_sep=\"\") \n",
        "multi_data['attack'] = multi_label\n",
        "multi_data"
      ]
    },
    {
      "cell_type": "code",
      "execution_count": null,
      "metadata": {
        "id": "N2ReKRKh0vNA"
      },
      "outputs": [],
      "source": [
        "# importing library for plotting\n",
        "import matplotlib.pyplot as plt"
      ]
    },
    {
      "cell_type": "code",
      "execution_count": null,
      "metadata": {
        "colab": {
          "base_uri": "https://localhost:8080/",
          "height": 482
        },
        "id": "0s9BIIMH0xyU",
        "outputId": "50460413-91ae-4e1f-e963-111254cee383"
      },
      "outputs": [
        {
          "output_type": "display_data",
          "data": {
            "text/plain": [
              "<Figure size 576x576 with 1 Axes>"
            ],
            "image/png": "[encoded data removed]"
          },
          "metadata": {}
        }
      ],
      "source": [
        "# pie chart distribution of multi-class labels\n",
        "plt.figure(figsize=(8,8))\n",
        "plt.pie(multi_data.attack.value_counts(),labels=multi_data.attack.unique(),autopct='%0.2f%%')\n",
        "plt.title('Pie chart distribution of multi-class labels')\n",
        "plt.legend()\n",
        "plt.savefig('Pie_chart_multi.png')\n",
        "plt.show()"
      ]
    },
    {
      "cell_type": "code",
      "execution_count": null,
      "metadata": {
        "colab": {
          "base_uri": "https://localhost:8080/"
        },
        "id": "jPXGM1wI01H9",
        "outputId": "e49b6c40-9b98-4456-9142-c174ae84239e"
      },
      "outputs": [
        {
          "output_type": "stream",
          "name": "stderr",
          "text": [
            "/usr/local/lib/python3.7/dist-packages/ipykernel_launcher.py:3: SettingWithCopyWarning: \n",
            "A value is trying to be set on a copy of a slice from a DataFrame.\n",
            "Try using .loc[row_indexer,col_indexer] = value instead\n",
            "\n",
            "See the caveats in the documentation: https://pandas.pydata.org/pandas-docs/stable/user_guide/indexing.html#returning-a-view-versus-a-copy\n",
            "  This is separate from the ipykernel package so we can avoid doing imports until\n"
          ]
        }
      ],
      "source": [
        "# creating a dataframe with only numeric attributes of multi-class dataset and encoded label attribute \n",
        "numeric_multi = multi_data[numeric_col]\n",
        "numeric_multi['attacknumber'] = multi_data['attacknumber']"
      ]
    },
    {
      "cell_type": "code",
      "execution_count": null,
      "metadata": {
        "colab": {
          "base_uri": "https://localhost:8080/"
        },
        "id": "CE7hbnqE03tX",
        "outputId": "b8adc67d-fe06-43ec-e35e-ff149f0bf2da"
      },
      "outputs": [
        {
          "output_type": "execute_result",
          "data": {
            "text/plain": [
              "serror_rate                    0.613853\n",
              "dst_host_srv_diff_host_rate    0.672289\n",
              "logged_in                      0.786376\n",
              "dst_host_count                 0.803810\n",
              "attacknumber                   1.000000\n",
              "Name: attacknumber, dtype: float64"
            ]
          },
          "metadata": {},
          "execution_count": 93
        }
      ],
      "source": [
        "# finding the attributes which have more than 0.5 correlation with encoded attack label attribute \n",
        "corr = numeric_multi.corr()\n",
        "corr_y = abs(corr['attacknumber'])\n",
        "highest_corr = corr_y[corr_y >0.5]\n",
        "highest_corr.sort_values(ascending=True)"
      ]
    },
    {
      "cell_type": "code",
      "execution_count": null,
      "metadata": {
        "id": "4air4LrL06P0"
      },
      "outputs": [],
      "source": [
        "# selecting attributes found by using pearson correlation coefficient\n",
        "numeric_multi = multi_data[['count','logged_in','srv_serror_rate','serror_rate','dst_host_serror_rate',\n",
        "                        'dst_host_same_srv_rate','dst_host_srv_serror_rate','dst_host_srv_count','same_srv_rate']]"
      ]
    },
    {
      "cell_type": "code",
      "execution_count": null,
      "metadata": {
        "id": "jyXCj1eL08lM"
      },
      "outputs": [],
      "source": [
        "# then joining encoded and original attack label attribute\n",
        "multi_data = numeric_multi.join(multi_data[['attacknumber','attack']])"
      ]
    },
    {
      "cell_type": "code",
      "execution_count": null,
      "metadata": {
        "colab": {
          "base_uri": "https://localhost:8080/",
          "height": 487
        },
        "id": "H53o1HCU0-ur",
        "outputId": "f6d8419d-5488-4507-da24-d4f02b8eafff"
      },
      "outputs": [
        {
          "output_type": "execute_result",
          "data": {
            "text/plain": [
              "         count  logged_in  srv_serror_rate  serror_rate  dst_host_serror_rate  \\\n",
              "0    -0.944279   2.240145         -0.40767    -0.738995             -0.519142   \n",
              "1    -0.944279   2.240145         -0.40767    -0.738995             -0.519142   \n",
              "2    -0.953509   2.240145         -0.40767    -0.738995             -0.519142   \n",
              "3    -0.953509   2.240145         -0.40767    -0.738995             -0.519142   \n",
              "4    -0.953509   2.240145         -0.40767    -0.738995             -0.519142   \n",
              "...        ...        ...              ...          ...                   ...   \n",
              "1644 -0.192060  -0.446400         -0.40767     0.806069             -0.237181   \n",
              "1645 -0.187445  -0.446400         -0.40767     0.806069             -0.237181   \n",
              "1646 -0.182830  -0.446400         -0.40767     0.806069             -0.237181   \n",
              "1647 -0.178216  -0.446400         -0.40767     0.779430             -0.237181   \n",
              "1648 -0.173601  -0.446400         -0.40767     0.779430             -0.237181   \n",
              "\n",
              "      dst_host_same_srv_rate  dst_host_srv_serror_rate  dst_host_srv_count  \\\n",
              "0                   1.432203                  -0.40767           -0.566233   \n",
              "1                   1.432203                  -0.40767           -0.464332   \n",
              "2                   1.432203                  -0.40767           -0.362431   \n",
              "3                   1.432203                  -0.40767           -0.260530   \n",
              "4                   1.432203                  -0.40767           -0.158629   \n",
              "...                      ...                       ...                 ...   \n",
              "1644               -0.187867                  -0.40767           -0.036348   \n",
              "1645               -0.187867                  -0.40767           -0.026158   \n",
              "1646               -0.165366                  -0.40767           -0.015968   \n",
              "1647               -0.165366                  -0.40767           -0.005778   \n",
              "1648               -0.165366                  -0.40767            0.004412   \n",
              "\n",
              "      same_srv_rate  attacknumber   attack  \n",
              "0          0.945102             2  normal.  \n",
              "1          0.945102             2  normal.  \n",
              "2          0.945102             2  normal.  \n",
              "3          0.945102             2  normal.  \n",
              "4          0.945102             2  normal.  \n",
              "...             ...           ...      ...  \n",
              "1644      -0.360567             0      Dos  \n",
              "1645      -0.360567             0      Dos  \n",
              "1646      -0.360567             0      Dos  \n",
              "1647      -0.338055             0      Dos  \n",
              "1648      -0.338055             0      Dos  \n",
              "\n",
              "[1649 rows x 11 columns]"
            ],
            "text/html": [
              "\n",
              "  <div id=\"df-0b8d11a4-8274-4750-a6cb-011fb72ea67e\">\n",
              "    <div class=\"colab-df-container\">\n",
              "      <div>\n",
              "<style scoped>\n",
              "    .dataframe tbody tr th:only-of-type {\n",
              "        vertical-align: middle;\n",
              "    }\n",
              "\n",
              "    .dataframe tbody tr th {\n",
              "        vertical-align: top;\n",
              "    }\n",
              "\n",
              "    .dataframe thead th {\n",
              "        text-align: right;\n",
              "    }\n",
              "</style>\n",
              "<table border=\"1\" class=\"dataframe\">\n",
              "  <thead>\n",
              "    <tr style=\"text-align: right;\">\n",
              "      <th></th>\n",
              "      <th>count</th>\n",
              "      <th>logged_in</th>\n",
              "      <th>srv_serror_rate</th>\n",
              "      <th>serror_rate</th>\n",
              "      <th>dst_host_serror_rate</th>\n",
              "      <th>dst_host_same_srv_rate</th>\n",
              "      <th>dst_host_srv_serror_rate</th>\n",
              "      <th>dst_host_srv_count</th>\n",
              "      <th>same_srv_rate</th>\n",
              "      <th>attacknumber</th>\n",
              "      <th>attack</th>\n",
              "    </tr>\n",
              "  </thead>\n",
              "  <tbody>\n",
              "    <tr>\n",
              "      <th>0</th>\n",
              "      <td>-0.944279</td>\n",
              "      <td>2.240145</td>\n",
              "      <td>-0.40767</td>\n",
              "      <td>-0.738995</td>\n",
              "      <td>-0.519142</td>\n",
              "      <td>1.432203</td>\n",
              "      <td>-0.40767</td>\n",
              "      <td>-0.566233</td>\n",
              "      <td>0.945102</td>\n",
              "      <td>2</td>\n",
              "      <td>normal.</td>\n",
              "    </tr>\n",
              "    <tr>\n",
              "      <th>1</th>\n",
              "      <td>-0.944279</td>\n",
              "      <td>2.240145</td>\n",
              "      <td>-0.40767</td>\n",
              "      <td>-0.738995</td>\n",
              "      <td>-0.519142</td>\n",
              "      <td>1.432203</td>\n",
              "      <td>-0.40767</td>\n",
              "      <td>-0.464332</td>\n",
              "      <td>0.945102</td>\n",
              "      <td>2</td>\n",
              "      <td>normal.</td>\n",
              "    </tr>\n",
              "    <tr>\n",
              "      <th>2</th>\n",
              "      <td>-0.953509</td>\n",
              "      <td>2.240145</td>\n",
              "      <td>-0.40767</td>\n",
              "      <td>-0.738995</td>\n",
              "      <td>-0.519142</td>\n",
              "      <td>1.432203</td>\n",
              "      <td>-0.40767</td>\n",
              "      <td>-0.362431</td>\n",
              "      <td>0.945102</td>\n",
              "      <td>2</td>\n",
              "      <td>normal.</td>\n",
              "    </tr>\n",
              "    <tr>\n",
              "      <th>3</th>\n",
              "      <td>-0.953509</td>\n",
              "      <td>2.240145</td>\n",
              "      <td>-0.40767</td>\n",
              "      <td>-0.738995</td>\n",
              "      <td>-0.519142</td>\n",
              "      <td>1.432203</td>\n",
              "      <td>-0.40767</td>\n",
              "      <td>-0.260530</td>\n",
              "      <td>0.945102</td>\n",
              "      <td>2</td>\n",
              "      <td>normal.</td>\n",
              "    </tr>\n",
              "    <tr>\n",
              "      <th>4</th>\n",
              "      <td>-0.953509</td>\n",
              "      <td>2.240145</td>\n",
              "      <td>-0.40767</td>\n",
              "      <td>-0.738995</td>\n",
              "      <td>-0.519142</td>\n",
              "      <td>1.432203</td>\n",
              "      <td>-0.40767</td>\n",
              "      <td>-0.158629</td>\n",
              "      <td>0.945102</td>\n",
              "      <td>2</td>\n",
              "      <td>normal.</td>\n",
              "    </tr>\n",
              "    <tr>\n",
              "      <th>...</th>\n",
              "      <td>...</td>\n",
              "      <td>...</td>\n",
              "      <td>...</td>\n",
              "      <td>...</td>\n",
              "      <td>...</td>\n",
              "      <td>...</td>\n",
              "      <td>...</td>\n",
              "      <td>...</td>\n",
              "      <td>...</td>\n",
              "      <td>...</td>\n",
              "      <td>...</td>\n",
              "    </tr>\n",
              "    <tr>\n",
              "      <th>1644</th>\n",
              "      <td>-0.192060</td>\n",
              "      <td>-0.446400</td>\n",
              "      <td>-0.40767</td>\n",
              "      <td>0.806069</td>\n",
              "      <td>-0.237181</td>\n",
              "      <td>-0.187867</td>\n",
              "      <td>-0.40767</td>\n",
              "      <td>-0.036348</td>\n",
              "      <td>-0.360567</td>\n",
              "      <td>0</td>\n",
              "      <td>Dos</td>\n",
              "    </tr>\n",
              "    <tr>\n",
              "      <th>1645</th>\n",
              "      <td>-0.187445</td>\n",
              "      <td>-0.446400</td>\n",
              "      <td>-0.40767</td>\n",
              "      <td>0.806069</td>\n",
              "      <td>-0.237181</td>\n",
              "      <td>-0.187867</td>\n",
              "      <td>-0.40767</td>\n",
              "      <td>-0.026158</td>\n",
              "      <td>-0.360567</td>\n",
              "      <td>0</td>\n",
              "      <td>Dos</td>\n",
              "    </tr>\n",
              "    <tr>\n",
              "      <th>1646</th>\n",
              "      <td>-0.182830</td>\n",
              "      <td>-0.446400</td>\n",
              "      <td>-0.40767</td>\n",
              "      <td>0.806069</td>\n",
              "      <td>-0.237181</td>\n",
              "      <td>-0.165366</td>\n",
              "      <td>-0.40767</td>\n",
              "      <td>-0.015968</td>\n",
              "      <td>-0.360567</td>\n",
              "      <td>0</td>\n",
              "      <td>Dos</td>\n",
              "    </tr>\n",
              "    <tr>\n",
              "      <th>1647</th>\n",
              "      <td>-0.178216</td>\n",
              "      <td>-0.446400</td>\n",
              "      <td>-0.40767</td>\n",
              "      <td>0.779430</td>\n",
              "      <td>-0.237181</td>\n",
              "      <td>-0.165366</td>\n",
              "      <td>-0.40767</td>\n",
              "      <td>-0.005778</td>\n",
              "      <td>-0.338055</td>\n",
              "      <td>0</td>\n",
              "      <td>Dos</td>\n",
              "    </tr>\n",
              "    <tr>\n",
              "      <th>1648</th>\n",
              "      <td>-0.173601</td>\n",
              "      <td>-0.446400</td>\n",
              "      <td>-0.40767</td>\n",
              "      <td>0.779430</td>\n",
              "      <td>-0.237181</td>\n",
              "      <td>-0.165366</td>\n",
              "      <td>-0.40767</td>\n",
              "      <td>0.004412</td>\n",
              "      <td>-0.338055</td>\n",
              "      <td>0</td>\n",
              "      <td>Dos</td>\n",
              "    </tr>\n",
              "  </tbody>\n",
              "</table>\n",
              "<p>1649 rows × 11 columns</p>\n",
              "</div>\n",
              "      <button class=\"colab-df-convert\" onclick=\"convertToInteractive('df-0b8d11a4-8274-4750-a6cb-011fb72ea67e')\"\n",
              "              title=\"Convert this dataframe to an interactive table.\"\n",
              "              style=\"display:none;\">\n",
              "        \n",
              "  <svg xmlns=\"http://www.w3.org/2000/svg\" height=\"24px\"viewBox=\"0 0 24 24\"\n",
              "       width=\"24px\">\n",
              "    <path d=\"M0 0h24v24H0V0z\" fill=\"none\"/>\n",
              "    <path d=\"M18.56 5.44l.94 2.06.94-2.06 2.06-.94-2.06-.94-.94-2.06-.94 2.06-2.06.94zm-11 1L8.5 8.5l.94-2.06 2.06-.94-2.06-.94L8.5 2.5l-.94 2.06-2.06.94zm10 10l.94 2.06.94-2.06 2.06-.94-2.06-.94-.94-2.06-.94 2.06-2.06.94z\"/><path d=\"M17.41 7.96l-1.37-1.37c-.4-.4-.92-.59-1.43-.59-.52 0-1.04.2-1.43.59L10.3 9.45l-7.72 7.72c-.78.78-.78 2.05 0 2.83L4 21.41c.39.39.9.59 1.41.59.51 0 1.02-.2 1.41-.59l7.78-7.78 2.81-2.81c.8-.78.8-2.07 0-2.86zM5.41 20L4 18.59l7.72-7.72 1.47 1.35L5.41 20z\"/>\n",
              "  </svg>\n",
              "      </button>\n",
              "      \n",
              "  <style>\n",
              "    .colab-df-container {\n",
              "      display:flex;\n",
              "      flex-wrap:wrap;\n",
              "      gap: 12px;\n",
              "    }\n",
              "\n",
              "    .colab-df-convert {\n",
              "      background-color: #E8F0FE;\n",
              "      border: none;\n",
              "      border-radius: 50%;\n",
              "      cursor: pointer;\n",
              "      display: none;\n",
              "      fill: #1967D2;\n",
              "      height: 32px;\n",
              "      padding: 0 0 0 0;\n",
              "      width: 32px;\n",
              "    }\n",
              "\n",
              "    .colab-df-convert:hover {\n",
              "      background-color: #E2EBFA;\n",
              "      box-shadow: 0px 1px 2px rgba(60, 64, 67, 0.3), 0px 1px 3px 1px rgba(60, 64, 67, 0.15);\n",
              "      fill: #174EA6;\n",
              "    }\n",
              "\n",
              "    [theme=dark] .colab-df-convert {\n",
              "      background-color: #3B4455;\n",
              "      fill: #D2E3FC;\n",
              "    }\n",
              "\n",
              "    [theme=dark] .colab-df-convert:hover {\n",
              "      background-color: #434B5C;\n",
              "      box-shadow: 0px 1px 3px 1px rgba(0, 0, 0, 0.15);\n",
              "      filter: drop-shadow(0px 1px 2px rgba(0, 0, 0, 0.3));\n",
              "      fill: #FFFFFF;\n",
              "    }\n",
              "  </style>\n",
              "\n",
              "      <script>\n",
              "        const buttonEl =\n",
              "          document.querySelector('#df-0b8d11a4-8274-4750-a6cb-011fb72ea67e button.colab-df-convert');\n",
              "        buttonEl.style.display =\n",
              "          google.colab.kernel.accessAllowed ? 'block' : 'none';\n",
              "\n",
              "        async function convertToInteractive(key) {\n",
              "          const element = document.querySelector('#df-0b8d11a4-8274-4750-a6cb-011fb72ea67e');\n",
              "          const dataTable =\n",
              "            await google.colab.kernel.invokeFunction('convertToInteractive',\n",
              "                                                     [key], {});\n",
              "          if (!dataTable) return;\n",
              "\n",
              "          const docLinkHtml = 'Like what you see? Visit the ' +\n",
              "            '<a target=\"_blank\" href=https://colab.research.google.com/notebooks/data_table.ipynb>data table notebook</a>'\n",
              "            + ' to learn more about interactive tables.';\n",
              "          element.innerHTML = '';\n",
              "          dataTable['output_type'] = 'display_data';\n",
              "          await google.colab.output.renderOutput(dataTable, element);\n",
              "          const docLink = document.createElement('div');\n",
              "          docLink.innerHTML = docLinkHtml;\n",
              "          element.appendChild(docLink);\n",
              "        }\n",
              "      </script>\n",
              "    </div>\n",
              "  </div>\n",
              "  "
            ]
          },
          "metadata": {},
          "execution_count": 96
        }
      ],
      "source": [
        "# saving final dataset to disk\n",
        "multi_data.to_csv('./multi_data.csv')\n",
        "# final dataset for multi-class classification\n",
        "multi_data"
      ]
    },
    {
      "cell_type": "code",
      "execution_count": null,
      "metadata": {
        "id": "kPAp76AD1DkK"
      },
      "outputs": [],
      "source": [
        "from tensorflow.keras.models import *\n",
        "from tensorflow.keras.layers import *\n",
        "def encoder(lstm_dt, layer):\n",
        "    lstm_struct = Dense(layer,activation='relu')\n",
        "    return lstm_struct\n",
        "def decoder(lstm_dt, layer):\n",
        "    lstm_struct = Dense(layer,activation='relu')\n",
        "    return lstm_struct"
      ]
    },
    {
      "cell_type": "code",
      "execution_count": null,
      "metadata": {
        "id": "KgHmQMC61Fxq"
      },
      "outputs": [],
      "source": [
        "#LSTM Encoder-decoder\n",
        "#create the model\n",
        "#initializing the classifier network\n",
        "model = Sequential()"
      ]
    },
    {
      "cell_type": "code",
      "execution_count": null,
      "metadata": {
        "id": "0QIHFdN_1Jbs"
      },
      "outputs": [],
      "source": [
        "#adding a dense hidden layer\n",
        "net = model.add(Dense(64,input_dim=37,activation='relu'))"
      ]
    },
    {
      "cell_type": "code",
      "execution_count": null,
      "metadata": {
        "id": "8EOyAVi21L7P"
      },
      "outputs": [],
      "source": [
        "#adding the input LSTM network layer\n",
        "net = model.add(encoder(net, 128))\n",
        "net = model.add(encoder(net, 256))\n",
        "net = model.add(encoder(net, 512))\n",
        "net = model.add(decoder(net,np.prod(512)))\n",
        "net = model.add(decoder(net,np.prod(256)))\n",
        "net = model.add(decoder(net,np.prod(128)))"
      ]
    },
    {
      "cell_type": "code",
      "execution_count": null,
      "metadata": {
        "id": "KQk0hLSZ1OLu"
      },
      "outputs": [],
      "source": [
        "#adding the output layer\n",
        "#converts a vector of values to a probability distribution\n",
        "model.add(Dense(6,activation='softmax'))"
      ]
    },
    {
      "cell_type": "code",
      "execution_count": null,
      "metadata": {
        "id": "8Z86sdh81QhI"
      },
      "outputs": [],
      "source": [
        "#compile the model\n",
        "model.compile(loss=\"categorical_crossentropy\",optimizer='adam',metrics=['accuracy'])"
      ]
    },
    {
      "cell_type": "code",
      "execution_count": null,
      "metadata": {
        "colab": {
          "base_uri": "https://localhost:8080/"
        },
        "id": "2wFVhekO1S0M",
        "outputId": "b472ca5d-5986-4339-93a5-c3594ea17d51"
      },
      "outputs": [
        {
          "output_type": "stream",
          "name": "stdout",
          "text": [
            "Epoch 1/10\n",
            "37/37 [==============================] - 1s 11ms/step - loss: 1.0780 - accuracy: 0.9107\n",
            "Epoch 2/10\n",
            "37/37 [==============================] - 0s 10ms/step - loss: 0.0967 - accuracy: 0.9775\n",
            "Epoch 3/10\n",
            "37/37 [==============================] - 0s 10ms/step - loss: 8.8752e-05 - accuracy: 1.0000\n",
            "Epoch 4/10\n",
            "37/37 [==============================] - 0s 10ms/step - loss: 2.6910e-06 - accuracy: 1.0000\n",
            "Epoch 5/10\n",
            "37/37 [==============================] - 0s 11ms/step - loss: 5.0287e-07 - accuracy: 1.0000\n",
            "Epoch 6/10\n",
            "37/37 [==============================] - 0s 10ms/step - loss: 3.1279e-07 - accuracy: 1.0000\n",
            "Epoch 7/10\n",
            "37/37 [==============================] - 0s 10ms/step - loss: 2.1332e-07 - accuracy: 1.0000\n",
            "Epoch 8/10\n",
            "37/37 [==============================] - 0s 10ms/step - loss: 1.4844e-07 - accuracy: 1.0000\n",
            "Epoch 9/10\n",
            "37/37 [==============================] - 0s 9ms/step - loss: 1.1064e-07 - accuracy: 1.0000\n",
            "Epoch 10/10\n",
            "37/37 [==============================] - 0s 10ms/step - loss: 8.6256e-08 - accuracy: 1.0000\n"
          ]
        }
      ],
      "source": [
        "#train the model\n",
        "history=model.fit(X_train,y_train,epochs=10)"
      ]
    },
    {
      "cell_type": "code",
      "execution_count": null,
      "metadata": {
        "colab": {
          "base_uri": "https://localhost:8080/"
        },
        "id": "Cj78ReWY1YK1",
        "outputId": "dc707bef-cf8e-4e4a-be68-fac77b9cf833"
      },
      "outputs": [
        {
          "output_type": "stream",
          "name": "stdout",
          "text": [
            "Model: \"sequential_2\"\n",
            "_________________________________________________________________\n",
            " Layer (type)                Output Shape              Param #   \n",
            "=================================================================\n",
            " dense_12 (Dense)            (None, 64)                2432      \n",
            "                                                                 \n",
            " dense_13 (Dense)            (None, 128)               8320      \n",
            "                                                                 \n",
            " dense_14 (Dense)            (None, 256)               33024     \n",
            "                                                                 \n",
            " dense_15 (Dense)            (None, 512)               131584    \n",
            "                                                                 \n",
            " dense_16 (Dense)            (None, 512)               262656    \n",
            "                                                                 \n",
            " dense_17 (Dense)            (None, 256)               131328    \n",
            "                                                                 \n",
            " dense_18 (Dense)            (None, 128)               32896     \n",
            "                                                                 \n",
            " dense_19 (Dense)            (None, 6)                 774       \n",
            "                                                                 \n",
            "=================================================================\n",
            "Total params: 603,014\n",
            "Trainable params: 603,014\n",
            "Non-trainable params: 0\n",
            "_________________________________________________________________\n"
          ]
        }
      ],
      "source": [
        "model.summary()"
      ]
    },
    {
      "cell_type": "code",
      "execution_count": null,
      "metadata": {
        "colab": {
          "base_uri": "https://localhost:8080/"
        },
        "id": "arakBWkf17MS",
        "outputId": "5701eae8-bc02-4529-c0bd-c1f75bb41a9c"
      },
      "outputs": [
        {
          "output_type": "execute_result",
          "data": {
            "text/plain": [
              "{'accuracy': [0.9107452630996704,\n",
              "  0.9774696826934814,\n",
              "  1.0,\n",
              "  1.0,\n",
              "  1.0,\n",
              "  1.0,\n",
              "  1.0,\n",
              "  1.0,\n",
              "  1.0,\n",
              "  1.0],\n",
              " 'loss': [1.078046441078186,\n",
              "  0.09669925272464752,\n",
              "  8.875220373738557e-05,\n",
              "  2.6909901862381957e-06,\n",
              "  5.028664986639342e-07,\n",
              "  3.127943841718661e-07,\n",
              "  2.133159711092958e-07,\n",
              "  1.4844324880414206e-07,\n",
              "  1.1063517035836412e-07,\n",
              "  8.625621461533228e-08]}"
            ]
          },
          "metadata": {},
          "execution_count": 105
        }
      ],
      "source": [
        "history.history"
      ]
    },
    {
      "cell_type": "code",
      "execution_count": null,
      "metadata": {
        "colab": {
          "base_uri": "https://localhost:8080/",
          "height": 513
        },
        "id": "tNLVuPxq2CfX",
        "outputId": "afe92c83-322b-4a60-af30-ba93cbff763a"
      },
      "outputs": [
        {
          "output_type": "display_data",
          "data": {
            "text/plain": [
              "<Figure size 1080x576 with 1 Axes>"
            ],
            "image/png": "[encoded data removed]"
          },
          "metadata": {
            "needs_background": "light"
          }
        }
      ],
      "source": [
        "fig_size = plt.rcParams[\"figure.figsize\"]\n",
        "fig_size[0] = 15\n",
        "fig_size[1] = 8\n",
        "plt.rcParams[\"figure.figsize\"] = fig_size\n",
        "plt.plot(history.history['loss'], color='red')\n",
        "plt.title('Model loss')\n",
        "plt.ylabel('Loss')\n",
        "plt.xlabel('Epoch')\n",
        "plt.legend(['Loss'], loc='center right')\n",
        "plt.show()"
      ]
    },
    {
      "cell_type": "code",
      "execution_count": null,
      "metadata": {
        "colab": {
          "base_uri": "https://localhost:8080/",
          "height": 513
        },
        "id": "vhrlvVB7B0LD",
        "outputId": "22b87adf-25ba-43a2-fb05-7afbb234b433"
      },
      "outputs": [
        {
          "output_type": "display_data",
          "data": {
            "text/plain": [
              "<Figure size 1080x576 with 1 Axes>"
            ],
            "image/png": "[encoded data removed]"
          },
          "metadata": {
            "needs_background": "light"
          }
        }
      ],
      "source": [
        "fig_size = plt.rcParams[\"figure.figsize\"]\n",
        "fig_size[0] = 15\n",
        "fig_size[1] = 8\n",
        "plt.rcParams[\"figure.figsize\"] = fig_size\n",
        "plt.plot(history.history['accuracy'], color='red')\n",
        "plt.title('Model accuracy')\n",
        "plt.ylabel('Accuracy')\n",
        "plt.xlabel('Epoch')\n",
        "plt.legend(['Accuracy'], loc='center right')\n",
        "plt.show()"
      ]
    },
    {
      "cell_type": "code",
      "execution_count": null,
      "metadata": {
        "id": "8GfjzFzC1azh"
      },
      "outputs": [],
      "source": [
        "#save the model to .h5 feature file\n",
        "model.save('kdd_training.h5')"
      ]
    },
    {
      "cell_type": "code",
      "execution_count": null,
      "metadata": {
        "colab": {
          "base_uri": "https://localhost:8080/"
        },
        "id": "Hs25zNfb1cvz",
        "outputId": "2bf816e5-11f0-4d91-8dce-6cd26295c83c"
      },
      "outputs": [
        {
          "output_type": "stream",
          "name": "stdout",
          "text": [
            "[3 5 3 4 5 0 1 1 1 2 0 3 0 1 4 0 3 3 5 3 2 1 3 3 3 0 0 4 5 3 0 4 3 5 1 5 1\n",
            " 3 3 2 5 3 3 5 5 1 4 2 4 3 0 3 5 3 4 4 0 0 0 2 3 5 1 0 2 0 0 4 1 2 1 2 1 3\n",
            " 0 0 5 2 4 5 4 2 5 2 3 3 3 4 4 5 3 5 0 5 4 5 1 1 4 4 4 3 1 4 0 3 2 2 5 0 5\n",
            " 5 0 2 4 2 1 0 3 1 3 0 4 5 1 3 5 0 4 0 4 4 2 5 3 4 5 2 0 3 4 0 4 2 0 3 1 1\n",
            " 1 0 1 5 0 3 2 0 5 0 5 4 4 1 4 0 4 2 1 2 0 3 2 0 3 4 5 4 5 4 5 1 4 5 0 2 5\n",
            " 2 0 5 2 0 2 5 0 5 3 3 3 5 4 1 3 5 0 5 4 5 0 2 0 1 3 3 3 4 3 0 0 2 1 1 4 5\n",
            " 2 0 0 0 0 2 2 4 4 4 4 0 3 5 4 2 1 3 3 5 0 5 4 3 0 1 0 5 1 3 2 1 5 5 5 4 0\n",
            " 3 2 4 4 3 2 4 4 5 0 3 1 1 2 5 1 5 3 0 1 5 0 4 5 1 3 4 0 5 3 0 1 5 0 0 4 0\n",
            " 1 0 2 0 0 5 4 1 1 5 3 4 5 1 1 5 0 2 5 3 2 3 4 4 0 4 2 5 1 0 0 4 4 3 1 0 0\n",
            " 4 0 3 1 0 0 5 2 3 2 2 4 5 5 5 3 3 3 3 3 4 2 5 2 3 1 0 4 3 0 1 2 3 5 0 2 2\n",
            " 5 1 5 3 1 2 3 4 1 0 0 0 2 3 1 0 5 5 4 0 1 2 1 3 2 3 2 4 1 5 1 4 3 3 1 4 2\n",
            " 2 0 4 1 3 2 3 0 5 5 3 4 2 2 5 2 1 1 2 0 5 4 1 0 2 4 5 4 0 5 3 0 3 0 5 4 5\n",
            " 0 2 5 0 0 5 4 1 0 5 1 0 1 4 1 2 3 5 5 3 4 4 2 3 4 0 3 0 0 5 2 4 3 5 1 3 5\n",
            " 4 5 3 5 2 0 3 1 5 5 4 4 2 1]\n"
          ]
        }
      ],
      "source": [
        "#test prediction\n",
        "model1 = load_model('kdd_training.h5')\n",
        "ypred=model1.predict(X_test)\n",
        "ypred = ypred\n",
        "y_pred=np.argmax(ypred,axis=1)\n",
        "print(y_pred)"
      ]
    },
    {
      "cell_type": "code",
      "execution_count": null,
      "metadata": {
        "colab": {
          "base_uri": "https://localhost:8080/"
        },
        "id": "mw-h2sVTIOUV",
        "outputId": "e1d7cda4-a088-49b6-ebea-3d54f10a69f3"
      },
      "outputs": [
        {
          "output_type": "stream",
          "name": "stdout",
          "text": [
            "16/16 [==============================] - 0s 3ms/step - loss: 1.3449e-06 - accuracy: 1.0000\n"
          ]
        },
        {
          "output_type": "execute_result",
          "data": {
            "text/plain": [
              "[1.3449425750877708e-06, 1.0]"
            ]
          },
          "metadata": {},
          "execution_count": 110
        }
      ],
      "source": [
        "# Score the model on the test data\n",
        "score1 = model1.evaluate(X_test, ypred)\n",
        "score1"
      ]
    },
    {
      "cell_type": "code",
      "execution_count": null,
      "metadata": {
        "id": "zffG0KHa7te2"
      },
      "outputs": [],
      "source": [
        "# import tensorflow and fix the random seed for better reproducibility\n",
        "import tensorflow as tf\n",
        "from tensorflow.keras.datasets import mnist\n",
        "from tensorflow.keras.wrappers.scikit_learn import KerasClassifier\n",
        "from sklearn.model_selection import RandomizedSearchCV\n",
        "tf.random.set_seed(42)"
      ]
    },
    {
      "cell_type": "code",
      "execution_count": null,
      "metadata": {
        "id": "72sttzjMuBQX"
      },
      "outputs": [],
      "source": [
        "# scale data to the range of [0, 1]\n",
        "X_train = X_train.astype(\"float32\") / 255.0\n",
        "X_test = X_test.astype(\"float32\") / 255.0"
      ]
    },
    {
      "cell_type": "code",
      "execution_count": null,
      "metadata": {
        "id": "-9HbMq_m7x5T"
      },
      "outputs": [],
      "source": [
        "#sequential model\n",
        "m1 = Sequential()"
      ]
    },
    {
      "cell_type": "code",
      "execution_count": null,
      "metadata": {
        "id": "2j6Ntva670rF"
      },
      "outputs": [],
      "source": [
        "# define a grid of the hyperparameter search space\n",
        "hiddenLayerOne = [16, 32, 64]\n",
        "learnRate = [1e-2, 1e-3, 1e-4]\n",
        "dropout = [0.3, 0.4, 0.5]\n",
        "batchSize = [4, 8, 16, 32]\n",
        "epochs = [10, 20, 30, 40]\n",
        "# create a dictionary from the hyperparameter grid\n",
        "grid = dict(hiddenLayerOne=hiddenLayerOne,learnRate=learnRate,dropout=dropout,batch_size=batchSize,epochs=epochs)"
      ]
    },
    {
      "cell_type": "code",
      "execution_count": null,
      "metadata": {
        "colab": {
          "base_uri": "https://localhost:8080/"
        },
        "id": "CvKvWsUq75eQ",
        "outputId": "874b46e6-1a2b-499e-bf55-388a0ff71243"
      },
      "outputs": [
        {
          "output_type": "stream",
          "name": "stdout",
          "text": [
            "Epoch 1/20\n",
            "37/37 [==============================] - 1s 2ms/step - loss: 1.2300 - accuracy: 0.6629\n",
            "Epoch 2/20\n",
            "37/37 [==============================] - 0s 2ms/step - loss: 0.5284 - accuracy: 0.8553\n",
            "Epoch 3/20\n",
            "37/37 [==============================] - 0s 2ms/step - loss: 0.2269 - accuracy: 0.9220\n",
            "Epoch 4/20\n",
            "37/37 [==============================] - 0s 2ms/step - loss: 0.1379 - accuracy: 0.9532\n",
            "Epoch 5/20\n",
            "37/37 [==============================] - 0s 2ms/step - loss: 0.0797 - accuracy: 0.9801\n",
            "Epoch 6/20\n",
            "37/37 [==============================] - 0s 2ms/step - loss: 0.0515 - accuracy: 0.9827\n",
            "Epoch 7/20\n",
            "37/37 [==============================] - 0s 3ms/step - loss: 0.0276 - accuracy: 0.9948\n",
            "Epoch 8/20\n",
            "37/37 [==============================] - 0s 2ms/step - loss: 0.0167 - accuracy: 0.9991\n",
            "Epoch 9/20\n",
            "37/37 [==============================] - 0s 2ms/step - loss: 0.0279 - accuracy: 0.9913\n",
            "Epoch 10/20\n",
            "37/37 [==============================] - 0s 3ms/step - loss: 0.0061 - accuracy: 1.0000\n",
            "Epoch 11/20\n",
            "37/37 [==============================] - 0s 2ms/step - loss: 0.0042 - accuracy: 1.0000\n",
            "Epoch 12/20\n",
            "37/37 [==============================] - 0s 2ms/step - loss: 0.0030 - accuracy: 1.0000\n",
            "Epoch 13/20\n",
            "37/37 [==============================] - 0s 2ms/step - loss: 0.0024 - accuracy: 1.0000\n",
            "Epoch 14/20\n",
            "37/37 [==============================] - 0s 2ms/step - loss: 0.0020 - accuracy: 1.0000\n",
            "Epoch 15/20\n",
            "37/37 [==============================] - 0s 2ms/step - loss: 0.0016 - accuracy: 1.0000\n",
            "Epoch 16/20\n",
            "37/37 [==============================] - 0s 2ms/step - loss: 0.0014 - accuracy: 1.0000\n",
            "Epoch 17/20\n",
            "37/37 [==============================] - 0s 2ms/step - loss: 0.0011 - accuracy: 1.0000\n",
            "Epoch 18/20\n",
            "37/37 [==============================] - 0s 2ms/step - loss: 9.7599e-04 - accuracy: 1.0000\n",
            "Epoch 19/20\n",
            "37/37 [==============================] - 0s 2ms/step - loss: 8.6314e-04 - accuracy: 1.0000\n",
            "Epoch 20/20\n",
            "37/37 [==============================] - 0s 2ms/step - loss: 7.2244e-04 - accuracy: 1.0000\n"
          ]
        }
      ],
      "source": [
        "# start the hyperparameter search process\n",
        "mll = RandomizedSearchCV(estimator=m1, n_jobs=-1, cv=3, param_distributions=grid, scoring=\"accuracy\")\n",
        "net = m1.add(Dense(64,input_dim=37,activation='relu'))\n",
        "net = m1.add(encoder(net, 128))\n",
        "net = m1.add(decoder(net,np.prod(128)))\n",
        "m1.add(Dense(6,activation='softmax'))\n",
        "m1.compile(loss=\"categorical_crossentropy\",optimizer='adam',metrics=['accuracy'])\n",
        "mapResults = m1.fit(X_train,y_train,epochs=20)"
      ]
    },
    {
      "cell_type": "code",
      "execution_count": null,
      "metadata": {
        "colab": {
          "base_uri": "https://localhost:8080/"
        },
        "id": "Irj667HuCYl2",
        "outputId": "e97af04e-0ce8-4484-fddd-9bc2c3fddd63"
      },
      "outputs": [
        {
          "output_type": "execute_result",
          "data": {
            "text/plain": [
              "{'accuracy': [0.662911593914032,\n",
              "  0.8552859425544739,\n",
              "  0.9220104217529297,\n",
              "  0.9532062411308289,\n",
              "  0.9800693392753601,\n",
              "  0.9826689958572388,\n",
              "  0.9948006868362427,\n",
              "  0.9991334676742554,\n",
              "  0.9913344979286194,\n",
              "  1.0,\n",
              "  1.0,\n",
              "  1.0,\n",
              "  1.0,\n",
              "  1.0,\n",
              "  1.0,\n",
              "  1.0,\n",
              "  1.0,\n",
              "  1.0,\n",
              "  1.0,\n",
              "  1.0],\n",
              " 'loss': [1.2299884557724,\n",
              "  0.5284271836280823,\n",
              "  0.22692936658859253,\n",
              "  0.13788646459579468,\n",
              "  0.07967190444469452,\n",
              "  0.05145537480711937,\n",
              "  0.027579504996538162,\n",
              "  0.016712090000510216,\n",
              "  0.027933040633797646,\n",
              "  0.006069596856832504,\n",
              "  0.004200023598968983,\n",
              "  0.003034860361367464,\n",
              "  0.0024276510812342167,\n",
              "  0.001969444565474987,\n",
              "  0.001620413502678275,\n",
              "  0.0013956695329397917,\n",
              "  0.0011342139914631844,\n",
              "  0.0009759851382113993,\n",
              "  0.0008631361997686327,\n",
              "  0.0007224388536997139]}"
            ]
          },
          "metadata": {},
          "execution_count": 116
        }
      ],
      "source": [
        "mapResults.history"
      ]
    },
    {
      "cell_type": "code",
      "execution_count": null,
      "metadata": {
        "colab": {
          "base_uri": "https://localhost:8080/",
          "height": 513
        },
        "id": "ZVCXFLivCZpb",
        "outputId": "fb8adcfb-7752-4301-f916-e6d5fce9425c"
      },
      "outputs": [
        {
          "output_type": "display_data",
          "data": {
            "text/plain": [
              "<Figure size 1080x576 with 1 Axes>"
            ],
            "image/png": "[encoded data removed]"
          },
          "metadata": {
            "needs_background": "light"
          }
        }
      ],
      "source": [
        "fig_size = plt.rcParams[\"figure.figsize\"]\n",
        "fig_size[0] = 15\n",
        "fig_size[1] = 8\n",
        "plt.rcParams[\"figure.figsize\"] = fig_size\n",
        "plt.plot(mapResults.history['loss'], color='red')\n",
        "plt.title('Model loss')\n",
        "plt.ylabel('Loss')\n",
        "plt.xlabel('Epoch')\n",
        "plt.legend(['Loss'], loc='center right')\n",
        "plt.show()"
      ]
    },
    {
      "cell_type": "code",
      "execution_count": null,
      "metadata": {
        "colab": {
          "base_uri": "https://localhost:8080/",
          "height": 513
        },
        "id": "bC0SrDC8CaGT",
        "outputId": "e7ddee19-586e-44e9-ee75-715d3edb16bb"
      },
      "outputs": [
        {
          "output_type": "display_data",
          "data": {
            "text/plain": [
              "<Figure size 1080x576 with 1 Axes>"
            ],
            "image/png": "[encoded data removed]"
          },
          "metadata": {
            "needs_background": "light"
          }
        }
      ],
      "source": [
        "fig_size = plt.rcParams[\"figure.figsize\"]\n",
        "fig_size[0] = 15\n",
        "fig_size[1] = 8\n",
        "plt.rcParams[\"figure.figsize\"] = fig_size\n",
        "plt.plot(mapResults.history['accuracy'], color='red')\n",
        "plt.title('Model accuracy')\n",
        "plt.ylabel('Accuracy')\n",
        "plt.xlabel('Epoch')\n",
        "plt.legend(['Accuracy'], loc='center right')\n",
        "plt.show()"
      ]
    },
    {
      "cell_type": "code",
      "execution_count": null,
      "metadata": {
        "id": "GbyAWPta78LU"
      },
      "outputs": [],
      "source": [
        "#save the model to .h5 feature file\n",
        "model.save('m1kdd.h5')"
      ]
    },
    {
      "cell_type": "code",
      "execution_count": null,
      "metadata": {
        "id": "gkgkqm_o7-b0"
      },
      "outputs": [],
      "source": [
        "mdl1 = load_model('m1kdd.h5')\n",
        "yp1=mdl1.predict(X_test)\n",
        "yp1 = yp1"
      ]
    },
    {
      "cell_type": "code",
      "execution_count": null,
      "metadata": {
        "colab": {
          "base_uri": "https://localhost:8080/"
        },
        "id": "lsYxsH5p8Lj4",
        "outputId": "64281cd9-808e-430b-f087-87052cf9f144"
      },
      "outputs": [
        {
          "output_type": "stream",
          "name": "stdout",
          "text": [
            "16/16 [==============================] - 0s 4ms/step - loss: 1.7593 - accuracy: 1.0000\n"
          ]
        },
        {
          "output_type": "execute_result",
          "data": {
            "text/plain": [
              "[1.7593233585357666, 1.0]"
            ]
          },
          "metadata": {},
          "execution_count": 121
        }
      ],
      "source": [
        "# Score the model on the test data using `evaluate`\n",
        "score2 = mdl1.evaluate(X_test, yp1)\n",
        "score2"
      ]
    },
    {
      "cell_type": "code",
      "execution_count": null,
      "metadata": {
        "colab": {
          "base_uri": "https://localhost:8080/"
        },
        "id": "xvo6DmxuZVBv",
        "outputId": "b5ecbc89-e1b5-474f-9e8e-61799e5f264b"
      },
      "outputs": [
        {
          "output_type": "execute_result",
          "data": {
            "text/plain": [
              "1.7593247034783417"
            ]
          },
          "metadata": {},
          "execution_count": 122
        }
      ],
      "source": [
        "#joint_training loss function\n",
        "def joint_training(score1, score2):\n",
        "  loss=score1[0]+score2[0]\n",
        "  return loss\n",
        "lossval=joint_training(score1, score2)\n",
        "lossval"
      ]
    },
    {
      "cell_type": "code",
      "execution_count": null,
      "metadata": {
        "id": "YgNBeuVOdmYI"
      },
      "outputs": [],
      "source": [
        "m1.compile(loss=joint_training(score1, score2),optimizer='adam',metrics=['accuracy'])"
      ]
    },
    {
      "cell_type": "code",
      "execution_count": null,
      "metadata": {
        "colab": {
          "base_uri": "https://localhost:8080/"
        },
        "id": "BxOdnsny8IV6",
        "outputId": "04bc8d97-5583-4162-b8ce-38310a0d225d"
      },
      "outputs": [
        {
          "output_type": "stream",
          "name": "stdout",
          "text": [
            "[3 5 3 4 5 0 1 1 1 2 0 3 0 1 4 0 3 3 5 3 2 1 3 3 3 0 0 4 5 3 0 4 3 5 1 5 1\n",
            " 3 3 2 5 3 3 5 5 1 4 2 4 3 0 3 5 3 4 4 0 0 0 2 3 5 1 3 2 0 0 4 1 2 1 2 1 3\n",
            " 0 0 5 2 4 5 4 2 5 2 3 3 3 4 4 1 3 5 0 5 4 5 1 1 4 4 4 3 1 4 0 3 2 2 5 0 5\n",
            " 5 0 2 4 2 1 0 3 1 3 3 4 5 1 3 5 0 4 0 4 4 2 5 3 4 5 2 0 3 4 0 4 2 0 3 1 1\n",
            " 1 0 1 5 0 3 2 0 5 0 5 4 4 1 4 3 4 2 1 2 0 3 5 3 3 4 5 4 5 4 5 1 4 5 3 2 5\n",
            " 2 0 5 2 0 2 5 0 1 3 3 3 5 4 1 3 5 0 5 4 5 0 2 0 1 3 3 3 4 3 0 0 2 1 1 4 5\n",
            " 2 3 0 0 0 2 2 4 4 4 4 0 3 5 4 2 1 3 3 5 0 5 4 3 0 1 0 5 1 3 2 1 5 5 5 4 0\n",
            " 3 2 4 4 3 2 4 4 5 0 3 1 1 2 1 1 5 3 0 1 5 0 4 5 1 3 4 0 5 3 0 1 5 0 0 4 0\n",
            " 1 0 2 0 0 5 4 1 1 5 3 4 5 1 1 5 0 2 5 3 2 3 4 4 0 4 2 5 1 0 0 4 4 3 1 0 0\n",
            " 4 0 3 1 0 3 5 2 3 2 2 4 5 5 5 3 3 3 3 3 4 2 5 2 3 1 0 4 3 0 1 2 3 1 0 2 2\n",
            " 5 1 5 3 1 2 3 4 1 0 3 0 2 3 1 0 5 5 4 0 1 2 1 3 2 3 2 4 1 5 1 4 3 3 1 4 2\n",
            " 2 3 4 1 3 2 3 0 5 5 3 4 2 2 5 2 1 1 2 0 5 4 1 0 2 4 5 4 0 5 3 0 3 0 5 4 5\n",
            " 0 2 5 0 0 5 4 1 0 5 1 0 1 4 1 2 3 5 5 3 4 4 2 3 4 0 3 0 0 5 2 4 3 5 1 3 5\n",
            " 4 5 3 5 2 0 3 1 5 1 4 4 2 1]\n"
          ]
        }
      ],
      "source": [
        "# predicted test result\n",
        "y_p1=np.argmax(yp1,axis=1)\n",
        "print(y_p1)"
      ]
    },
    {
      "cell_type": "code",
      "execution_count": null,
      "metadata": {
        "colab": {
          "base_uri": "https://localhost:8080/"
        },
        "id": "iCY8a4wf8bx5",
        "outputId": "351aa5c1-3f38-442f-c484-2d96edad5540"
      },
      "outputs": [
        {
          "output_type": "stream",
          "name": "stdout",
          "text": [
            "Accuracy score of LSTM algorithm is: \n",
            "0.9696969696969697\n"
          ]
        }
      ],
      "source": [
        "#accuracy score of LSTM\n",
        "lstmac = accuracy_score(y_test, y_p1)\n",
        "print(\"Accuracy score of LSTM algorithm is: \")\n",
        "print(lstmac)"
      ]
    },
    {
      "cell_type": "code",
      "execution_count": null,
      "metadata": {
        "colab": {
          "base_uri": "https://localhost:8080/"
        },
        "id": "Xu6HjlMEUaew",
        "outputId": "36922348-2478-4e4a-ce61-af1f59efc078"
      },
      "outputs": [
        {
          "output_type": "stream",
          "name": "stdout",
          "text": [
            "Normalized accuracy score of LSTM algorithm is: \n",
            "480\n"
          ]
        }
      ],
      "source": [
        "#Normalized accuracy score of LSTM\n",
        "lstmnor1 = accuracy_score(y_test, y_p1, normalize=False)\n",
        "print(\"Normalized accuracy score of LSTM algorithm is: \")\n",
        "print(lstmnor1)"
      ]
    },
    {
      "cell_type": "code",
      "execution_count": null,
      "metadata": {
        "colab": {
          "base_uri": "https://localhost:8080/"
        },
        "id": "7-u2QWeWUSdP",
        "outputId": "11df7e04-4445-4b78-ec23-be3563754443"
      },
      "outputs": [
        {
          "output_type": "stream",
          "name": "stdout",
          "text": [
            "Precision: 0.971381\n"
          ]
        }
      ],
      "source": [
        "#precision score\n",
        "precision1 = precision_score(y_test, y_p1, average='macro')\n",
        "print('Precision: %f' % precision1)"
      ]
    },
    {
      "cell_type": "code",
      "execution_count": null,
      "metadata": {
        "id": "Y4JKs37K_KKi",
        "colab": {
          "base_uri": "https://localhost:8080/"
        },
        "outputId": "93dc3110-dd46-4526-a4fc-4e6d40666280"
      },
      "outputs": [
        {
          "output_type": "stream",
          "name": "stdout",
          "text": [
            "F1 score: 0.971059\n"
          ]
        }
      ],
      "source": [
        "#f1 score\n",
        "f11 = f1_score(y_test, y_p1, average='macro')\n",
        "print('F1 score: %f' % f11)"
      ]
    },
    {
      "cell_type": "code",
      "source": [
        "#recall score\n",
        "recall1 = recall_score(y_test, y_p1, average='macro')\n",
        "print('Recall: %f' % recall1)"
      ],
      "metadata": {
        "colab": {
          "base_uri": "https://localhost:8080/"
        },
        "id": "fELeS4QRCeOp",
        "outputId": "92ed02e5-3b30-4b1a-a5fc-c999870b295f"
      },
      "execution_count": null,
      "outputs": [
        {
          "output_type": "stream",
          "name": "stdout",
          "text": [
            "Recall: 0.972829\n"
          ]
        }
      ]
    },
    {
      "cell_type": "code",
      "execution_count": null,
      "metadata": {
        "colab": {
          "base_uri": "https://localhost:8080/",
          "height": 323
        },
        "id": "JL98NasBU-ZT",
        "outputId": "58250dc1-05af-4ad8-f6d4-fc5bcbd73abd"
      },
      "outputs": [
        {
          "output_type": "display_data",
          "data": {
            "text/plain": [
              "<Figure size 360x288 with 2 Axes>"
            ],
            "image/png": "[encoded data removed]"
          },
          "metadata": {
            "needs_background": "light"
          }
        }
      ],
      "source": [
        "#Plotting confusion matrix\n",
        "from sklearn.metrics import confusion_matrix\n",
        "cm = confusion_matrix(y_test,y_p1)\n",
        "cm_df = pd.DataFrame(cm,\n",
        "    index = ['normal','neptune','smurf','portsweep','satan','teardrop'], \n",
        "        columns = ['normal','neptune','smurf','portsweep','satan','teardrop'])\n",
        "plt.figure(figsize=(5,4))\n",
        "sns.heatmap(cm_df, annot=True)\n",
        "plt.title('Confusion Matrix')\n",
        "plt.show()"
      ]
    }
  ],
  "metadata": {
    "colab": {
      "collapsed_sections": [],
      "name": "Project.ipynb",
      "provenance": []
    },
    "kernelspec": {
      "display_name": "Python 3",
      "name": "python3"
    },
    "language_info": {
      "name": "python"
    }
  },
  "nbformat": 4,
  "nbformat_minor": 0
}